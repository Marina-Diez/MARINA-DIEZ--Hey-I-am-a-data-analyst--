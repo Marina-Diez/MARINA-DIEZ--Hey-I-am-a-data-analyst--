{
 "cells": [
  {
   "cell_type": "markdown",
   "id": "3a923a22",
   "metadata": {},
   "source": [
    "# Making the data visual"
   ]
  },
  {
   "cell_type": "code",
   "execution_count": 57,
   "id": "ce79a9e7",
   "metadata": {},
   "outputs": [],
   "source": [
    "import numpy as np\n",
    "import pandas as pd\n",
    "import seaborn as sns\n",
    "import src.cleaning_utils as cu\n",
    "import matplotlib.pyplot as plt\n",
    "import folium\n",
    "from folium import Choropleth, Circle, Marker, Icon, Map\n",
    "from folium.plugins import HeatMap, MarkerCluster"
   ]
  },
  {
   "cell_type": "markdown",
   "id": "6b799d7d",
   "metadata": {},
   "source": [
    "## Download our Airbnb and enriching datasets"
   ]
  },
  {
   "cell_type": "code",
   "execution_count": 58,
   "id": "308ccdf1",
   "metadata": {},
   "outputs": [
    {
     "data": {
      "text/html": [
       "<div>\n",
       "<style scoped>\n",
       "    .dataframe tbody tr th:only-of-type {\n",
       "        vertical-align: middle;\n",
       "    }\n",
       "\n",
       "    .dataframe tbody tr th {\n",
       "        vertical-align: top;\n",
       "    }\n",
       "\n",
       "    .dataframe thead th {\n",
       "        text-align: right;\n",
       "    }\n",
       "</style>\n",
       "<table border=\"1\" class=\"dataframe\">\n",
       "  <thead>\n",
       "    <tr style=\"text-align: right;\">\n",
       "      <th></th>\n",
       "      <th>neighbourhood_group</th>\n",
       "      <th>neighbourhood</th>\n",
       "      <th>latitude</th>\n",
       "      <th>longitude</th>\n",
       "      <th>room_type</th>\n",
       "      <th>price</th>\n",
       "      <th>minimum_nights</th>\n",
       "      <th>number_of_reviews</th>\n",
       "      <th>year</th>\n",
       "    </tr>\n",
       "  </thead>\n",
       "  <tbody>\n",
       "    <tr>\n",
       "      <th>0</th>\n",
       "      <td>Brooklyn</td>\n",
       "      <td>Kensington</td>\n",
       "      <td>40.64749</td>\n",
       "      <td>-73.97237</td>\n",
       "      <td>Private room</td>\n",
       "      <td>149</td>\n",
       "      <td>1</td>\n",
       "      <td>9</td>\n",
       "      <td>2018.0</td>\n",
       "    </tr>\n",
       "    <tr>\n",
       "      <th>1</th>\n",
       "      <td>Manhattan</td>\n",
       "      <td>Midtown</td>\n",
       "      <td>40.75362</td>\n",
       "      <td>-73.98377</td>\n",
       "      <td>Entire home/apt</td>\n",
       "      <td>225</td>\n",
       "      <td>1</td>\n",
       "      <td>45</td>\n",
       "      <td>2019.0</td>\n",
       "    </tr>\n",
       "    <tr>\n",
       "      <th>2</th>\n",
       "      <td>Brooklyn</td>\n",
       "      <td>Clinton Hill</td>\n",
       "      <td>40.68514</td>\n",
       "      <td>-73.95976</td>\n",
       "      <td>Entire home/apt</td>\n",
       "      <td>89</td>\n",
       "      <td>1</td>\n",
       "      <td>270</td>\n",
       "      <td>2019.0</td>\n",
       "    </tr>\n",
       "    <tr>\n",
       "      <th>3</th>\n",
       "      <td>Manhattan</td>\n",
       "      <td>East Harlem</td>\n",
       "      <td>40.79851</td>\n",
       "      <td>-73.94399</td>\n",
       "      <td>Entire home/apt</td>\n",
       "      <td>80</td>\n",
       "      <td>10</td>\n",
       "      <td>9</td>\n",
       "      <td>2018.0</td>\n",
       "    </tr>\n",
       "    <tr>\n",
       "      <th>4</th>\n",
       "      <td>Manhattan</td>\n",
       "      <td>Murray Hill</td>\n",
       "      <td>40.74767</td>\n",
       "      <td>-73.97500</td>\n",
       "      <td>Entire home/apt</td>\n",
       "      <td>200</td>\n",
       "      <td>3</td>\n",
       "      <td>74</td>\n",
       "      <td>2019.0</td>\n",
       "    </tr>\n",
       "  </tbody>\n",
       "</table>\n",
       "</div>"
      ],
      "text/plain": [
       "  neighbourhood_group neighbourhood  latitude  longitude        room_type  \\\n",
       "0            Brooklyn    Kensington  40.64749  -73.97237     Private room   \n",
       "1           Manhattan       Midtown  40.75362  -73.98377  Entire home/apt   \n",
       "2            Brooklyn  Clinton Hill  40.68514  -73.95976  Entire home/apt   \n",
       "3           Manhattan   East Harlem  40.79851  -73.94399  Entire home/apt   \n",
       "4           Manhattan   Murray Hill  40.74767  -73.97500  Entire home/apt   \n",
       "\n",
       "   price  minimum_nights  number_of_reviews    year  \n",
       "0    149               1                  9  2018.0  \n",
       "1    225               1                 45  2019.0  \n",
       "2     89               1                270  2019.0  \n",
       "3     80              10                  9  2018.0  \n",
       "4    200               3                 74  2019.0  "
      ]
     },
     "execution_count": 58,
     "metadata": {},
     "output_type": "execute_result"
    }
   ],
   "source": [
    "# Airbnb\n",
    "Abb_NY = pd.read_csv(\"output/Abb_NY_clean_output.csv\",encoding = \"ISO-8859-1\")\n",
    "Abb_NY.head()"
   ]
  },
  {
   "cell_type": "code",
   "execution_count": 97,
   "id": "72bcc001",
   "metadata": {},
   "outputs": [
    {
     "data": {
      "text/html": [
       "<div>\n",
       "<style scoped>\n",
       "    .dataframe tbody tr th:only-of-type {\n",
       "        vertical-align: middle;\n",
       "    }\n",
       "\n",
       "    .dataframe tbody tr th {\n",
       "        vertical-align: top;\n",
       "    }\n",
       "\n",
       "    .dataframe thead th {\n",
       "        text-align: right;\n",
       "    }\n",
       "</style>\n",
       "<table border=\"1\" class=\"dataframe\">\n",
       "  <thead>\n",
       "    <tr style=\"text-align: right;\">\n",
       "      <th></th>\n",
       "      <th>Monument</th>\n",
       "      <th>Borough</th>\n",
       "      <th>Location</th>\n",
       "    </tr>\n",
       "  </thead>\n",
       "  <tbody>\n",
       "    <tr>\n",
       "      <th>0</th>\n",
       "      <td>69th Regiment Armory</td>\n",
       "      <td>Manhattan</td>\n",
       "      <td>40Â°44â²30â³N 73Â°59â²01â³Wï»¿ / ï»¿40.741...</td>\n",
       "    </tr>\n",
       "    <tr>\n",
       "      <th>1</th>\n",
       "      <td>Admiral David Glasgow Farragut Gravesite</td>\n",
       "      <td>Bronx</td>\n",
       "      <td>40Â°53â²32â³N 73Â°51â²57â³Wï»¿ / ï»¿40.892...</td>\n",
       "    </tr>\n",
       "    <tr>\n",
       "      <th>2</th>\n",
       "      <td>African Burial Ground</td>\n",
       "      <td>Manhattan</td>\n",
       "      <td>40Â°42â²52â³N 74Â°00â²16â³Wï»¿ / ï»¿40.714...</td>\n",
       "    </tr>\n",
       "    <tr>\n",
       "      <th>3</th>\n",
       "      <td>Ambrose (lightship)</td>\n",
       "      <td>Manhattan</td>\n",
       "      <td>40Â°42â²17â³N 74Â°00â²09â³Wï»¿ / ï»¿40.704...</td>\n",
       "    </tr>\n",
       "    <tr>\n",
       "      <th>4</th>\n",
       "      <td>American Stock Exchange</td>\n",
       "      <td>Manhattan</td>\n",
       "      <td>40Â°42â²32â³N 74Â°00â²45â³Wï»¿ / ï»¿40.709...</td>\n",
       "    </tr>\n",
       "  </tbody>\n",
       "</table>\n",
       "</div>"
      ],
      "text/plain": [
       "                                   Monument    Borough  \\\n",
       "0                      69th Regiment Armory  Manhattan   \n",
       "1  Admiral David Glasgow Farragut Gravesite      Bronx   \n",
       "2                     African Burial Ground  Manhattan   \n",
       "3                       Ambrose (lightship)  Manhattan   \n",
       "4                   American Stock Exchange  Manhattan   \n",
       "\n",
       "                                            Location  \n",
       "0  40Â°44â²30â³N 73Â°59â²01â³Wï»¿ / ï»¿40.741...  \n",
       "1  40Â°53â²32â³N 73Â°51â²57â³Wï»¿ / ï»¿40.892...  \n",
       "2  40Â°42â²52â³N 74Â°00â²16â³Wï»¿ / ï»¿40.714...  \n",
       "3  40Â°42â²17â³N 74Â°00â²09â³Wï»¿ / ï»¿40.704...  \n",
       "4  40Â°42â²32â³N 74Â°00â²45â³Wï»¿ / ï»¿40.709...  "
      ]
     },
     "execution_count": 97,
     "metadata": {},
     "output_type": "execute_result"
    }
   ],
   "source": [
    "# Monuments\n",
    "monuments_NY = pd.read_csv(\"output/data_NYmonuments_output.csv\",encoding = \"ISO-8859-1\")\n",
    "monuments_NY.head()"
   ]
  },
  {
   "cell_type": "code",
   "execution_count": 96,
   "id": "80626cdb",
   "metadata": {
    "scrolled": true
   },
   "outputs": [
    {
     "data": {
      "text/html": [
       "<div>\n",
       "<style scoped>\n",
       "    .dataframe tbody tr th:only-of-type {\n",
       "        vertical-align: middle;\n",
       "    }\n",
       "\n",
       "    .dataframe tbody tr th {\n",
       "        vertical-align: top;\n",
       "    }\n",
       "\n",
       "    .dataframe thead th {\n",
       "        text-align: right;\n",
       "    }\n",
       "</style>\n",
       "<table border=\"1\" class=\"dataframe\">\n",
       "  <thead>\n",
       "    <tr style=\"text-align: right;\">\n",
       "      <th></th>\n",
       "      <th>restaurant_name</th>\n",
       "      <th>borough</th>\n",
       "      <th>street</th>\n",
       "      <th>longitude</th>\n",
       "      <th>latitude</th>\n",
       "    </tr>\n",
       "  </thead>\n",
       "  <tbody>\n",
       "    <tr>\n",
       "      <th>0</th>\n",
       "      <td>Pomp and Circumstance Hospitality</td>\n",
       "      <td>Brooklyn</td>\n",
       "      <td>Lorimer Street</td>\n",
       "      <td>-73.949416</td>\n",
       "      <td>40.714264</td>\n",
       "    </tr>\n",
       "    <tr>\n",
       "      <th>1</th>\n",
       "      <td>Charm Kao</td>\n",
       "      <td>Brooklyn</td>\n",
       "      <td>Schermerhorn St.</td>\n",
       "      <td>-73.986352</td>\n",
       "      <td>40.689107</td>\n",
       "    </tr>\n",
       "    <tr>\n",
       "      <th>2</th>\n",
       "      <td>SAKE BAR HAGI 46</td>\n",
       "      <td>Manhattan</td>\n",
       "      <td>W. 46TH STREET</td>\n",
       "      <td>-73.989528</td>\n",
       "      <td>40.760463</td>\n",
       "    </tr>\n",
       "    <tr>\n",
       "      <th>3</th>\n",
       "      <td>Yum yum too</td>\n",
       "      <td>Manhattan</td>\n",
       "      <td>9ave</td>\n",
       "      <td>-73.990683</td>\n",
       "      <td>40.761081</td>\n",
       "    </tr>\n",
       "    <tr>\n",
       "      <th>4</th>\n",
       "      <td>Xochil Pizza Corp</td>\n",
       "      <td>Brooklyn</td>\n",
       "      <td>5th Avenue</td>\n",
       "      <td>-74.008216</td>\n",
       "      <td>40.647140</td>\n",
       "    </tr>\n",
       "  </tbody>\n",
       "</table>\n",
       "</div>"
      ],
      "text/plain": [
       "                     restaurant_name    borough            street  longitude  \\\n",
       "0  Pomp and Circumstance Hospitality   Brooklyn    Lorimer Street -73.949416   \n",
       "1                          Charm Kao   Brooklyn  Schermerhorn St. -73.986352   \n",
       "2                   SAKE BAR HAGI 46  Manhattan    W. 46TH STREET -73.989528   \n",
       "3                        Yum yum too  Manhattan              9ave -73.990683   \n",
       "4                  Xochil Pizza Corp   Brooklyn        5th Avenue -74.008216   \n",
       "\n",
       "    latitude  \n",
       "0  40.714264  \n",
       "1  40.689107  \n",
       "2  40.760463  \n",
       "3  40.761081  \n",
       "4  40.647140  "
      ]
     },
     "execution_count": 96,
     "metadata": {},
     "output_type": "execute_result"
    }
   ],
   "source": [
    "#Restaurants\n",
    "restaurants_NY = pd.read_csv(\"output/data_NYrestaurants_output.csv\",encoding = \"ISO-8859-1\")\n",
    "restaurants_NY.head()"
   ]
  },
  {
   "cell_type": "markdown",
   "id": "fdb29971",
   "metadata": {},
   "source": [
    "### Which type os plot is better for showing our information?"
   ]
  },
  {
   "cell_type": "code",
   "execution_count": 93,
   "id": "422d1e78",
   "metadata": {},
   "outputs": [
    {
     "data": {
      "text/plain": [
       "Manhattan        15834\n",
       "Brooklyn         15702\n",
       "Queens            4457\n",
       "Bronx              869\n",
       "Staten Island      309\n",
       "Name: neighbourhood_group, dtype: int64"
      ]
     },
     "execution_count": 93,
     "metadata": {},
     "output_type": "execute_result"
    }
   ],
   "source": [
    "Abb_NY[\"neighbourhood_group\"].value_counts(dropna=False)"
   ]
  },
  {
   "cell_type": "code",
   "execution_count": 95,
   "id": "9ebe0ce4",
   "metadata": {},
   "outputs": [
    {
     "data": {
      "image/png": "[encoded data removed]",
      "text/plain": [
       "<Figure size 432x288 with 1 Axes>"
      ]
     },
     "metadata": {},
     "output_type": "display_data"
    }
   ],
   "source": [
    "# In my opinion, pie chart is not a clean as clear option\n",
    "labels = ['Manhattan', 'Brooklyn', 'Queens', 'Bronx','Staten Island' ]\n",
    "sizes = [15834, 15702, 4457, 869,309]\n",
    "\n",
    "plt.pie(sizes, labels=labels)\n",
    "plt.axis('equal')\n",
    "plt.show()"
   ]
  },
  {
   "cell_type": "code",
   "execution_count": 84,
   "id": "0d5b4e6b",
   "metadata": {},
   "outputs": [
    {
     "data": {
      "text/plain": [
       "Text(0.5, 0, 'Neighbourhood')"
      ]
     },
     "execution_count": 84,
     "metadata": {},
     "output_type": "execute_result"
    },
    {
     "data": {
      "image/png": "[encoded data removed]",
      "text/plain": [
       "<Figure size 720x288 with 1 Axes>"
      ]
     },
     "metadata": {
      "needs_background": "light"
     },
     "output_type": "display_data"
    }
   ],
   "source": [
    "# Bar chart instead, is a great option\n",
    "plt.figure(figsize=(10,4))\n",
    "Airbnb_plot = sns.countplot(x=Abb_NY.neighbourhood_group, palette= \"Greens\", order=[\"Manhattan\",\"Brooklyn\",\"Queens\",\"Bronx\",\"Staten Island\"])\n",
    "Airbnb_plot.set_title(\"Amount of Airbnb per Neighbourhood\")\n",
    "Airbnb_plot.set_ylabel(\"Amount of Airbnb\")\n",
    "Airbnb_plot.set_xlabel(\"Neighbourhood\")"
   ]
  },
  {
   "cell_type": "markdown",
   "id": "f85d741e",
   "metadata": {},
   "source": [
    "We can see how Manhattan and Brooklym are the two Neighbourhood with more airbnb reservations. What is the reason of that?\n",
    "- More number of monuments?"
   ]
  },
  {
   "cell_type": "code",
   "execution_count": 117,
   "id": "1e241631",
   "metadata": {},
   "outputs": [],
   "source": [
    "#Export the plot\n",
    "Airbnb_plot.figure.savefig(\"output/Airbnb_plot.jpg\", dpi=100)"
   ]
  },
  {
   "cell_type": "code",
   "execution_count": 86,
   "id": "e3a19ab6",
   "metadata": {
    "scrolled": true
   },
   "outputs": [
    {
     "data": {
      "text/plain": [
       "Text(0.5, 0, 'Neighbourhood')"
      ]
     },
     "execution_count": 86,
     "metadata": {},
     "output_type": "execute_result"
    },
    {
     "data": {
      "image/png": "[encoded data removed]",
      "text/plain": [
       "<Figure size 720x288 with 1 Axes>"
      ]
     },
     "metadata": {
      "needs_background": "light"
     },
     "output_type": "display_data"
    }
   ],
   "source": [
    "# This idea really fits with the amount of arbnb in Manhattan but, what about Brooklyn? Maybe price?\n",
    "plt.figure(figsize=(10,4))\n",
    "Monuments_plot = sns.countplot(x=monuments_NY.Borough, palette= \"Greens\", order=[\"Manhattan\",\"Brooklyn\",\"Bronx\"])\n",
    "Monuments_plot.set_title(\"Amount of Monuments per Neighbourhood\")\n",
    "Monuments_plot.set_ylabel(\"Amount of Monuments\")\n",
    "Monuments_plot.set_xlabel(\"Neighbourhood\")"
   ]
  },
  {
   "cell_type": "code",
   "execution_count": 118,
   "id": "d8a5e1cb",
   "metadata": {},
   "outputs": [],
   "source": [
    "#Export the plot\n",
    "Monuments_plot.figure.savefig(\"output/Monuments_plot.jpg\", dpi=100)"
   ]
  },
  {
   "cell_type": "code",
   "execution_count": 65,
   "id": "d13550b1",
   "metadata": {},
   "outputs": [
    {
     "data": {
      "text/html": [
       "<div>\n",
       "<style scoped>\n",
       "    .dataframe tbody tr th:only-of-type {\n",
       "        vertical-align: middle;\n",
       "    }\n",
       "\n",
       "    .dataframe tbody tr th {\n",
       "        vertical-align: top;\n",
       "    }\n",
       "\n",
       "    .dataframe thead th {\n",
       "        text-align: right;\n",
       "    }\n",
       "</style>\n",
       "<table border=\"1\" class=\"dataframe\">\n",
       "  <thead>\n",
       "    <tr style=\"text-align: right;\">\n",
       "      <th></th>\n",
       "      <th>price</th>\n",
       "      <th>Name</th>\n",
       "    </tr>\n",
       "    <tr>\n",
       "      <th>neighbourhood_group</th>\n",
       "      <th></th>\n",
       "      <th></th>\n",
       "    </tr>\n",
       "  </thead>\n",
       "  <tbody>\n",
       "    <tr>\n",
       "      <th>Manhattan</th>\n",
       "      <td>140</td>\n",
       "      <td>Manhattan</td>\n",
       "    </tr>\n",
       "    <tr>\n",
       "      <th>Brooklyn</th>\n",
       "      <td>93</td>\n",
       "      <td>Brooklyn</td>\n",
       "    </tr>\n",
       "    <tr>\n",
       "      <th>Queens</th>\n",
       "      <td>72</td>\n",
       "      <td>Queens</td>\n",
       "    </tr>\n",
       "    <tr>\n",
       "      <th>Staten Island</th>\n",
       "      <td>72</td>\n",
       "      <td>Staten Island</td>\n",
       "    </tr>\n",
       "    <tr>\n",
       "      <th>Bronx</th>\n",
       "      <td>64</td>\n",
       "      <td>Bronx</td>\n",
       "    </tr>\n",
       "  </tbody>\n",
       "</table>\n",
       "</div>"
      ],
      "text/plain": [
       "                     price           Name\n",
       "neighbourhood_group                      \n",
       "Manhattan              140      Manhattan\n",
       "Brooklyn                93       Brooklyn\n",
       "Queens                  72         Queens\n",
       "Staten Island           72  Staten Island\n",
       "Bronx                   64          Bronx"
      ]
     },
     "execution_count": 65,
     "metadata": {},
     "output_type": "execute_result"
    }
   ],
   "source": [
    "# We make mean groups of prices by neighbourhood and make it visual.\n",
    "df_median=Abb_NY.groupby(\"neighbourhood_group\").median()\n",
    "df_median[\"Name\"] = [\"Bronx\", \"Brooklyn\", \"Manhattan\", \"Queens\", \"Staten Island\"]\n",
    "df_median = df_median.sort_values(by=[\"price\"], ascending=False)\n",
    "drop_cols = [\"latitude\",\"longitude\",\"minimum_nights\",\"number_of_reviews\",\"year\"]\n",
    "df_median = df_median.drop(drop_cols, axis =1)\n",
    "df_median\n"
   ]
  },
  {
   "cell_type": "code",
   "execution_count": 120,
   "id": "7bb65481",
   "metadata": {},
   "outputs": [
    {
     "data": {
      "text/plain": [
       "<AxesSubplot:xlabel='Name', ylabel='price'>"
      ]
     },
     "execution_count": 120,
     "metadata": {},
     "output_type": "execute_result"
    },
    {
     "data": {
      "image/png": "[encoded data removed]",
      "text/plain": [
       "<Figure size 432x288 with 1 Axes>"
      ]
     },
     "metadata": {
      "needs_background": "light"
     },
     "output_type": "display_data"
    }
   ],
   "source": [
    "x_order = [\"Manhattan\",\"Brooklyn\",\"Queens\",\"Staten Island\",\"Bronx\"]\n",
    "median_plot= sns.histplot(x=df_median.Name, y=df_median.price, hue=df_median.Name,  palette= \"Greens\", hue_order=[\"Manhattan\",\"Brooklyn\",\"Queens\",\"Staten Island\",\"Bronx\"] )\n",
    "median_plot"
   ]
  },
  {
   "cell_type": "code",
   "execution_count": 122,
   "id": "667f4636",
   "metadata": {},
   "outputs": [],
   "source": [
    "median_plot.figure.savefig(\"output/median_plot.jpg\", dpi=100)"
   ]
  },
  {
   "cell_type": "markdown",
   "id": "c992cde3",
   "metadata": {},
   "source": [
    "After this first step analysis, we can conclude that there are two good neighbourhood where having a house for ranting would be a great idea.\n",
    "- Manhattan: Where most monuments and offices are\n",
    "- Brooklyn: is \"near\" to Manhattan but cheaper."
   ]
  },
  {
   "cell_type": "code",
   "execution_count": 87,
   "id": "a7d9c56d",
   "metadata": {},
   "outputs": [
    {
     "data": {
      "text/plain": [
       "Text(0.5, 0, 'Neighbourhood')"
      ]
     },
     "execution_count": 87,
     "metadata": {},
     "output_type": "execute_result"
    },
    {
     "data": {
      "image/png": "[encoded data removed]",
      "text/plain": [
       "<Figure size 720x288 with 1 Axes>"
      ]
     },
     "metadata": {
      "needs_background": "light"
     },
     "output_type": "display_data"
    }
   ],
   "source": [
    "# And what about restourants? where would be the best place for having locals destinated for a future restaurant?\n",
    "plt.figure(figsize=(10,4))\n",
    "restaurants_plot = sns.countplot(x=restaurants_NY.borough, palette= \"Greens\", order=[\"Manhattan\",\"Brooklyn\",\"Queens\",\"Bronx\",\"Staten Island\"\"Bronx\"])\n",
    "restaurants_plot.set_title(\"Amount of restaurants per Neighbourhood\")\n",
    "restaurants_plot.set_ylabel(\"Amount of restaurants\")\n",
    "restaurants_plot.set_xlabel(\"Neighbourhood\")"
   ]
  },
  {
   "cell_type": "code",
   "execution_count": 123,
   "id": "46eb0ce9",
   "metadata": {},
   "outputs": [],
   "source": [
    "restaurants_plot.figure.savefig(\"output/restaurants_plot.jpg\", dpi=100)"
   ]
  },
  {
   "cell_type": "markdown",
   "id": "482cd850",
   "metadata": {},
   "source": [
    "As it was to imagine, Manhattan and Brooklyn are the two where more restaurant are. As more trafic of people, more offer of restaurants."
   ]
  },
  {
   "cell_type": "code",
   "execution_count": 134,
   "id": "052192a8",
   "metadata": {},
   "outputs": [],
   "source": [
    "#What about seen this datas on a map? I,m sure it will help.\n",
    "Manhattan_lat = 40.78343\n",
    "Manhattan_long = -73.96625\n",
    "brooklyn_lat = 40.6501\n",
    "brooklyn_long = -73.94958"
   ]
  },
  {
   "cell_type": "code",
   "execution_count": 135,
   "id": "a996d415",
   "metadata": {},
   "outputs": [
    {
     "data": {
      "text/html": [
       "<div style=\"width:100%;\"><div style=\"position:relative;width:100%;height:0;padding-bottom:60%;\"><span style=\"color:#565656\">Make this Notebook Trusted to load map: File -> Trust Notebook</span><iframe src=\"about:blank\" style=\"position:absolute;width:100%;height:100%;left:0;top:0;border:none !important;\" data-html=%3C%21DOCTYPE%20html%3E%0A%3Chead%3E%20%20%20%20%0A%20%20%20%20%3Cmeta%20http-equiv%3D%22content-type%22%20content%3D%22text/html%3B%20charset%3DUTF-8%22%20/%3E%0A%20%20%20%20%0A%20%20%20%20%20%20%20%20%3Cscript%3E%0A%20%20%20%20%20%20%20%20%20%20%20%20L_NO_TOUCH%20%3D%20false%3B%0A%20%20%20%20%20%20%20%20%20%20%20%20L_DISABLE_3D%20%3D%20false%3B%0A%20%20%20%20%20%20%20%20%3C/script%3E%0A%20%20%20%20%0A%20%20%20%20%3Cstyle%3Ehtml%2C%20body%20%7Bwidth%3A%20100%25%3Bheight%3A%20100%25%3Bmargin%3A%200%3Bpadding%3A%200%3B%7D%3C/style%3E%0A%20%20%20%20%3Cstyle%3E%23map%20%7Bposition%3Aabsolute%3Btop%3A0%3Bbottom%3A0%3Bright%3A0%3Bleft%3A0%3B%7D%3C/style%3E%0A%20%20%20%20%3Cscript%20src%3D%22https%3A//cdn.jsdelivr.net/npm/leaflet%401.6.0/dist/leaflet.js%22%3E%3C/script%3E%0A%20%20%20%20%3Cscript%20src%3D%22https%3A//code.jquery.com/jquery-1.12.4.min.js%22%3E%3C/script%3E%0A%20%20%20%20%3Cscript%20src%3D%22https%3A//maxcdn.bootstrapcdn.com/bootstrap/3.2.0/js/bootstrap.min.js%22%3E%3C/script%3E%0A%20%20%20%20%3Cscript%20src%3D%22https%3A//cdnjs.cloudflare.com/ajax/libs/Leaflet.awesome-markers/2.0.2/leaflet.awesome-markers.js%22%3E%3C/script%3E%0A%20%20%20%20%3Clink%20rel%3D%22stylesheet%22%20href%3D%22https%3A//cdn.jsdelivr.net/npm/leaflet%401.6.0/dist/leaflet.css%22/%3E%0A%20%20%20%20%3Clink%20rel%3D%22stylesheet%22%20href%3D%22https%3A//maxcdn.bootstrapcdn.com/bootstrap/3.2.0/css/bootstrap.min.css%22/%3E%0A%20%20%20%20%3Clink%20rel%3D%22stylesheet%22%20href%3D%22https%3A//maxcdn.bootstrapcdn.com/bootstrap/3.2.0/css/bootstrap-theme.min.css%22/%3E%0A%20%20%20%20%3Clink%20rel%3D%22stylesheet%22%20href%3D%22https%3A//maxcdn.bootstrapcdn.com/font-awesome/4.6.3/css/font-awesome.min.css%22/%3E%0A%20%20%20%20%3Clink%20rel%3D%22stylesheet%22%20href%3D%22https%3A//cdnjs.cloudflare.com/ajax/libs/Leaflet.awesome-markers/2.0.2/leaflet.awesome-markers.css%22/%3E%0A%20%20%20%20%3Clink%20rel%3D%22stylesheet%22%20href%3D%22https%3A//cdn.jsdelivr.net/gh/python-visualization/folium/folium/templates/leaflet.awesome.rotate.min.css%22/%3E%0A%20%20%20%20%0A%20%20%20%20%20%20%20%20%20%20%20%20%3Cmeta%20name%3D%22viewport%22%20content%3D%22width%3Ddevice-width%2C%0A%20%20%20%20%20%20%20%20%20%20%20%20%20%20%20%20initial-scale%3D1.0%2C%20maximum-scale%3D1.0%2C%20user-scalable%3Dno%22%20/%3E%0A%20%20%20%20%20%20%20%20%20%20%20%20%3Cstyle%3E%0A%20%20%20%20%20%20%20%20%20%20%20%20%20%20%20%20%23map_dc028ca44de340faa2048c2435d05194%20%7B%0A%20%20%20%20%20%20%20%20%20%20%20%20%20%20%20%20%20%20%20%20position%3A%20relative%3B%0A%20%20%20%20%20%20%20%20%20%20%20%20%20%20%20%20%20%20%20%20width%3A%20100.0%25%3B%0A%20%20%20%20%20%20%20%20%20%20%20%20%20%20%20%20%20%20%20%20height%3A%20100.0%25%3B%0A%20%20%20%20%20%20%20%20%20%20%20%20%20%20%20%20%20%20%20%20left%3A%200.0%25%3B%0A%20%20%20%20%20%20%20%20%20%20%20%20%20%20%20%20%20%20%20%20top%3A%200.0%25%3B%0A%20%20%20%20%20%20%20%20%20%20%20%20%20%20%20%20%7D%0A%20%20%20%20%20%20%20%20%20%20%20%20%3C/style%3E%0A%20%20%20%20%20%20%20%20%0A%3C/head%3E%0A%3Cbody%3E%20%20%20%20%0A%20%20%20%20%0A%20%20%20%20%20%20%20%20%20%20%20%20%3Cdiv%20class%3D%22folium-map%22%20id%3D%22map_dc028ca44de340faa2048c2435d05194%22%20%3E%3C/div%3E%0A%20%20%20%20%20%20%20%20%0A%3C/body%3E%0A%3Cscript%3E%20%20%20%20%0A%20%20%20%20%0A%20%20%20%20%20%20%20%20%20%20%20%20var%20map_dc028ca44de340faa2048c2435d05194%20%3D%20L.map%28%0A%20%20%20%20%20%20%20%20%20%20%20%20%20%20%20%20%22map_dc028ca44de340faa2048c2435d05194%22%2C%0A%20%20%20%20%20%20%20%20%20%20%20%20%20%20%20%20%7B%0A%20%20%20%20%20%20%20%20%20%20%20%20%20%20%20%20%20%20%20%20center%3A%20%5B40.78343%2C%20-73.96625%5D%2C%0A%20%20%20%20%20%20%20%20%20%20%20%20%20%20%20%20%20%20%20%20crs%3A%20L.CRS.EPSG3857%2C%0A%20%20%20%20%20%20%20%20%20%20%20%20%20%20%20%20%20%20%20%20zoom%3A%2011.4%2C%0A%20%20%20%20%20%20%20%20%20%20%20%20%20%20%20%20%20%20%20%20zoomControl%3A%20true%2C%0A%20%20%20%20%20%20%20%20%20%20%20%20%20%20%20%20%20%20%20%20preferCanvas%3A%20false%2C%0A%20%20%20%20%20%20%20%20%20%20%20%20%20%20%20%20%7D%0A%20%20%20%20%20%20%20%20%20%20%20%20%29%3B%0A%0A%20%20%20%20%20%20%20%20%20%20%20%20%0A%0A%20%20%20%20%20%20%20%20%0A%20%20%20%20%0A%20%20%20%20%20%20%20%20%20%20%20%20var%20tile_layer_c775d48e68794ea79d2dc83e67a2bc00%20%3D%20L.tileLayer%28%0A%20%20%20%20%20%20%20%20%20%20%20%20%20%20%20%20%22https%3A//%7Bs%7D.tile.openstreetmap.org/%7Bz%7D/%7Bx%7D/%7By%7D.png%22%2C%0A%20%20%20%20%20%20%20%20%20%20%20%20%20%20%20%20%7B%22attribution%22%3A%20%22Data%20by%20%5Cu0026copy%3B%20%5Cu003ca%20href%3D%5C%22http%3A//openstreetmap.org%5C%22%5Cu003eOpenStreetMap%5Cu003c/a%5Cu003e%2C%20under%20%5Cu003ca%20href%3D%5C%22http%3A//www.openstreetmap.org/copyright%5C%22%5Cu003eODbL%5Cu003c/a%5Cu003e.%22%2C%20%22detectRetina%22%3A%20false%2C%20%22maxNativeZoom%22%3A%2018%2C%20%22maxZoom%22%3A%2018%2C%20%22minZoom%22%3A%200%2C%20%22noWrap%22%3A%20false%2C%20%22opacity%22%3A%201%2C%20%22subdomains%22%3A%20%22abc%22%2C%20%22tms%22%3A%20false%7D%0A%20%20%20%20%20%20%20%20%20%20%20%20%29.addTo%28map_dc028ca44de340faa2048c2435d05194%29%3B%0A%20%20%20%20%20%20%20%20%0A%3C/script%3E onload=\"this.contentDocument.open();this.contentDocument.write(    decodeURIComponent(this.getAttribute('data-html')));this.contentDocument.close();\" allowfullscreen webkitallowfullscreen mozallowfullscreen></iframe></div></div>"
      ],
      "text/plain": [
       "<folium.folium.Map at 0x27ffb467748>"
      ]
     },
     "execution_count": 135,
     "metadata": {},
     "output_type": "execute_result"
    }
   ],
   "source": [
    "# We make a map focus on Manhattan\n",
    "map_1 = folium.Map(location = [Manhattan_lat,Manhattan_long ], zoom_start= 11.4)\n",
    "map_1"
   ]
  },
  {
   "cell_type": "code",
   "execution_count": 136,
   "id": "ffe750b2",
   "metadata": {},
   "outputs": [],
   "source": [
    "# We define with a dollar Manhattan because is where more expensive reservations are and Brooklyn with a house \n",
    "# because it a more residential area.\n",
    "icono1 = Icon( color= \"green\",\n",
    "             prefix = \"fa\",\n",
    "             icon = \"dollar\", \n",
    "             icon_color = \"black\"\n",
    "\n",
    ")\n",
    "\n",
    "loc = { \"location\": [Manhattan_lat, Manhattan_long], \n",
    "       \"tooltip\": \"Manhattan\" }"
   ]
  },
  {
   "cell_type": "code",
   "execution_count": 137,
   "id": "8229689d",
   "metadata": {},
   "outputs": [],
   "source": [
    "marker_manh = Marker(**loc, icon=icono1)"
   ]
  },
  {
   "cell_type": "code",
   "execution_count": 138,
   "id": "b77871e8",
   "metadata": {},
   "outputs": [
    {
     "data": {
      "text/plain": [
       "<folium.map.Marker at 0x27f94be7518>"
      ]
     },
     "execution_count": 138,
     "metadata": {},
     "output_type": "execute_result"
    }
   ],
   "source": [
    "marker_manh.add_to(map_1)"
   ]
  },
  {
   "cell_type": "code",
   "execution_count": 139,
   "id": "c1b034fb",
   "metadata": {},
   "outputs": [],
   "source": [
    "icono2 = Icon( color= \"green\",\n",
    "             prefix = \"fa\",\n",
    "             icon = \"home\", \n",
    "             icon_color = \"black\"\n",
    "\n",
    ")\n",
    "\n",
    "loc = { \"location\": [brooklyn_lat, brooklyn_long], \n",
    "       \"tooltip\": \"Brooklyn\" }"
   ]
  },
  {
   "cell_type": "code",
   "execution_count": 140,
   "id": "cdc97d55",
   "metadata": {},
   "outputs": [],
   "source": [
    "marker_brook = Marker(**loc, icon=icono2)"
   ]
  },
  {
   "cell_type": "code",
   "execution_count": 141,
   "id": "fa862e9c",
   "metadata": {},
   "outputs": [
    {
     "data": {
      "text/html": [
       "<div style=\"width:100%;\"><div style=\"position:relative;width:100%;height:0;padding-bottom:60%;\"><span style=\"color:#565656\">Make this Notebook Trusted to load map: File -> Trust Notebook</span><iframe src=\"about:blank\" style=\"position:absolute;width:100%;height:100%;left:0;top:0;border:none !important;\" data-html=%3C%21DOCTYPE%20html%3E%0A%3Chead%3E%20%20%20%20%0A%20%20%20%20%3Cmeta%20http-equiv%3D%22content-type%22%20content%3D%22text/html%3B%20charset%3DUTF-8%22%20/%3E%0A%20%20%20%20%0A%20%20%20%20%20%20%20%20%3Cscript%3E%0A%20%20%20%20%20%20%20%20%20%20%20%20L_NO_TOUCH%20%3D%20false%3B%0A%20%20%20%20%20%20%20%20%20%20%20%20L_DISABLE_3D%20%3D%20false%3B%0A%20%20%20%20%20%20%20%20%3C/script%3E%0A%20%20%20%20%0A%20%20%20%20%3Cstyle%3Ehtml%2C%20body%20%7Bwidth%3A%20100%25%3Bheight%3A%20100%25%3Bmargin%3A%200%3Bpadding%3A%200%3B%7D%3C/style%3E%0A%20%20%20%20%3Cstyle%3E%23map%20%7Bposition%3Aabsolute%3Btop%3A0%3Bbottom%3A0%3Bright%3A0%3Bleft%3A0%3B%7D%3C/style%3E%0A%20%20%20%20%3Cscript%20src%3D%22https%3A//cdn.jsdelivr.net/npm/leaflet%401.6.0/dist/leaflet.js%22%3E%3C/script%3E%0A%20%20%20%20%3Cscript%20src%3D%22https%3A//code.jquery.com/jquery-1.12.4.min.js%22%3E%3C/script%3E%0A%20%20%20%20%3Cscript%20src%3D%22https%3A//maxcdn.bootstrapcdn.com/bootstrap/3.2.0/js/bootstrap.min.js%22%3E%3C/script%3E%0A%20%20%20%20%3Cscript%20src%3D%22https%3A//cdnjs.cloudflare.com/ajax/libs/Leaflet.awesome-markers/2.0.2/leaflet.awesome-markers.js%22%3E%3C/script%3E%0A%20%20%20%20%3Clink%20rel%3D%22stylesheet%22%20href%3D%22https%3A//cdn.jsdelivr.net/npm/leaflet%401.6.0/dist/leaflet.css%22/%3E%0A%20%20%20%20%3Clink%20rel%3D%22stylesheet%22%20href%3D%22https%3A//maxcdn.bootstrapcdn.com/bootstrap/3.2.0/css/bootstrap.min.css%22/%3E%0A%20%20%20%20%3Clink%20rel%3D%22stylesheet%22%20href%3D%22https%3A//maxcdn.bootstrapcdn.com/bootstrap/3.2.0/css/bootstrap-theme.min.css%22/%3E%0A%20%20%20%20%3Clink%20rel%3D%22stylesheet%22%20href%3D%22https%3A//maxcdn.bootstrapcdn.com/font-awesome/4.6.3/css/font-awesome.min.css%22/%3E%0A%20%20%20%20%3Clink%20rel%3D%22stylesheet%22%20href%3D%22https%3A//cdnjs.cloudflare.com/ajax/libs/Leaflet.awesome-markers/2.0.2/leaflet.awesome-markers.css%22/%3E%0A%20%20%20%20%3Clink%20rel%3D%22stylesheet%22%20href%3D%22https%3A//cdn.jsdelivr.net/gh/python-visualization/folium/folium/templates/leaflet.awesome.rotate.min.css%22/%3E%0A%20%20%20%20%0A%20%20%20%20%20%20%20%20%20%20%20%20%3Cmeta%20name%3D%22viewport%22%20content%3D%22width%3Ddevice-width%2C%0A%20%20%20%20%20%20%20%20%20%20%20%20%20%20%20%20initial-scale%3D1.0%2C%20maximum-scale%3D1.0%2C%20user-scalable%3Dno%22%20/%3E%0A%20%20%20%20%20%20%20%20%20%20%20%20%3Cstyle%3E%0A%20%20%20%20%20%20%20%20%20%20%20%20%20%20%20%20%23map_dc028ca44de340faa2048c2435d05194%20%7B%0A%20%20%20%20%20%20%20%20%20%20%20%20%20%20%20%20%20%20%20%20position%3A%20relative%3B%0A%20%20%20%20%20%20%20%20%20%20%20%20%20%20%20%20%20%20%20%20width%3A%20100.0%25%3B%0A%20%20%20%20%20%20%20%20%20%20%20%20%20%20%20%20%20%20%20%20height%3A%20100.0%25%3B%0A%20%20%20%20%20%20%20%20%20%20%20%20%20%20%20%20%20%20%20%20left%3A%200.0%25%3B%0A%20%20%20%20%20%20%20%20%20%20%20%20%20%20%20%20%20%20%20%20top%3A%200.0%25%3B%0A%20%20%20%20%20%20%20%20%20%20%20%20%20%20%20%20%7D%0A%20%20%20%20%20%20%20%20%20%20%20%20%3C/style%3E%0A%20%20%20%20%20%20%20%20%0A%3C/head%3E%0A%3Cbody%3E%20%20%20%20%0A%20%20%20%20%0A%20%20%20%20%20%20%20%20%20%20%20%20%3Cdiv%20class%3D%22folium-map%22%20id%3D%22map_dc028ca44de340faa2048c2435d05194%22%20%3E%3C/div%3E%0A%20%20%20%20%20%20%20%20%0A%3C/body%3E%0A%3Cscript%3E%20%20%20%20%0A%20%20%20%20%0A%20%20%20%20%20%20%20%20%20%20%20%20var%20map_dc028ca44de340faa2048c2435d05194%20%3D%20L.map%28%0A%20%20%20%20%20%20%20%20%20%20%20%20%20%20%20%20%22map_dc028ca44de340faa2048c2435d05194%22%2C%0A%20%20%20%20%20%20%20%20%20%20%20%20%20%20%20%20%7B%0A%20%20%20%20%20%20%20%20%20%20%20%20%20%20%20%20%20%20%20%20center%3A%20%5B40.78343%2C%20-73.96625%5D%2C%0A%20%20%20%20%20%20%20%20%20%20%20%20%20%20%20%20%20%20%20%20crs%3A%20L.CRS.EPSG3857%2C%0A%20%20%20%20%20%20%20%20%20%20%20%20%20%20%20%20%20%20%20%20zoom%3A%2011.4%2C%0A%20%20%20%20%20%20%20%20%20%20%20%20%20%20%20%20%20%20%20%20zoomControl%3A%20true%2C%0A%20%20%20%20%20%20%20%20%20%20%20%20%20%20%20%20%20%20%20%20preferCanvas%3A%20false%2C%0A%20%20%20%20%20%20%20%20%20%20%20%20%20%20%20%20%7D%0A%20%20%20%20%20%20%20%20%20%20%20%20%29%3B%0A%0A%20%20%20%20%20%20%20%20%20%20%20%20%0A%0A%20%20%20%20%20%20%20%20%0A%20%20%20%20%0A%20%20%20%20%20%20%20%20%20%20%20%20var%20tile_layer_c775d48e68794ea79d2dc83e67a2bc00%20%3D%20L.tileLayer%28%0A%20%20%20%20%20%20%20%20%20%20%20%20%20%20%20%20%22https%3A//%7Bs%7D.tile.openstreetmap.org/%7Bz%7D/%7Bx%7D/%7By%7D.png%22%2C%0A%20%20%20%20%20%20%20%20%20%20%20%20%20%20%20%20%7B%22attribution%22%3A%20%22Data%20by%20%5Cu0026copy%3B%20%5Cu003ca%20href%3D%5C%22http%3A//openstreetmap.org%5C%22%5Cu003eOpenStreetMap%5Cu003c/a%5Cu003e%2C%20under%20%5Cu003ca%20href%3D%5C%22http%3A//www.openstreetmap.org/copyright%5C%22%5Cu003eODbL%5Cu003c/a%5Cu003e.%22%2C%20%22detectRetina%22%3A%20false%2C%20%22maxNativeZoom%22%3A%2018%2C%20%22maxZoom%22%3A%2018%2C%20%22minZoom%22%3A%200%2C%20%22noWrap%22%3A%20false%2C%20%22opacity%22%3A%201%2C%20%22subdomains%22%3A%20%22abc%22%2C%20%22tms%22%3A%20false%7D%0A%20%20%20%20%20%20%20%20%20%20%20%20%29.addTo%28map_dc028ca44de340faa2048c2435d05194%29%3B%0A%20%20%20%20%20%20%20%20%0A%20%20%20%20%0A%20%20%20%20%20%20%20%20%20%20%20%20var%20marker_a7500f53254a44e491f2bdfb6da431c7%20%3D%20L.marker%28%0A%20%20%20%20%20%20%20%20%20%20%20%20%20%20%20%20%5B40.78343%2C%20-73.96625%5D%2C%0A%20%20%20%20%20%20%20%20%20%20%20%20%20%20%20%20%7B%7D%0A%20%20%20%20%20%20%20%20%20%20%20%20%29.addTo%28map_dc028ca44de340faa2048c2435d05194%29%3B%0A%20%20%20%20%20%20%20%20%0A%20%20%20%20%0A%20%20%20%20%20%20%20%20%20%20%20%20var%20icon_7703449735b148b9b0524e8fd0badd27%20%3D%20L.AwesomeMarkers.icon%28%0A%20%20%20%20%20%20%20%20%20%20%20%20%20%20%20%20%7B%22extraClasses%22%3A%20%22fa-rotate-0%22%2C%20%22icon%22%3A%20%22dollar%22%2C%20%22iconColor%22%3A%20%22black%22%2C%20%22markerColor%22%3A%20%22green%22%2C%20%22prefix%22%3A%20%22fa%22%7D%0A%20%20%20%20%20%20%20%20%20%20%20%20%29%3B%0A%20%20%20%20%20%20%20%20%20%20%20%20marker_a7500f53254a44e491f2bdfb6da431c7.setIcon%28icon_7703449735b148b9b0524e8fd0badd27%29%3B%0A%20%20%20%20%20%20%20%20%0A%20%20%20%20%0A%20%20%20%20%20%20%20%20%20%20%20%20marker_a7500f53254a44e491f2bdfb6da431c7.bindTooltip%28%0A%20%20%20%20%20%20%20%20%20%20%20%20%20%20%20%20%60%3Cdiv%3E%0A%20%20%20%20%20%20%20%20%20%20%20%20%20%20%20%20%20%20%20%20%20Manhattan%0A%20%20%20%20%20%20%20%20%20%20%20%20%20%20%20%20%20%3C/div%3E%60%2C%0A%20%20%20%20%20%20%20%20%20%20%20%20%20%20%20%20%7B%22sticky%22%3A%20true%7D%0A%20%20%20%20%20%20%20%20%20%20%20%20%29%3B%0A%20%20%20%20%20%20%20%20%0A%20%20%20%20%0A%20%20%20%20%20%20%20%20%20%20%20%20var%20marker_21d7358993d64a19b973d5036986dc8f%20%3D%20L.marker%28%0A%20%20%20%20%20%20%20%20%20%20%20%20%20%20%20%20%5B40.6501%2C%20-73.94958%5D%2C%0A%20%20%20%20%20%20%20%20%20%20%20%20%20%20%20%20%7B%7D%0A%20%20%20%20%20%20%20%20%20%20%20%20%29.addTo%28map_dc028ca44de340faa2048c2435d05194%29%3B%0A%20%20%20%20%20%20%20%20%0A%20%20%20%20%0A%20%20%20%20%20%20%20%20%20%20%20%20var%20icon_7b0caeebc6274e5ea15575add84f8221%20%3D%20L.AwesomeMarkers.icon%28%0A%20%20%20%20%20%20%20%20%20%20%20%20%20%20%20%20%7B%22extraClasses%22%3A%20%22fa-rotate-0%22%2C%20%22icon%22%3A%20%22home%22%2C%20%22iconColor%22%3A%20%22black%22%2C%20%22markerColor%22%3A%20%22green%22%2C%20%22prefix%22%3A%20%22fa%22%7D%0A%20%20%20%20%20%20%20%20%20%20%20%20%29%3B%0A%20%20%20%20%20%20%20%20%20%20%20%20marker_21d7358993d64a19b973d5036986dc8f.setIcon%28icon_7b0caeebc6274e5ea15575add84f8221%29%3B%0A%20%20%20%20%20%20%20%20%0A%20%20%20%20%0A%20%20%20%20%20%20%20%20%20%20%20%20marker_21d7358993d64a19b973d5036986dc8f.bindTooltip%28%0A%20%20%20%20%20%20%20%20%20%20%20%20%20%20%20%20%60%3Cdiv%3E%0A%20%20%20%20%20%20%20%20%20%20%20%20%20%20%20%20%20%20%20%20%20Brooklyn%0A%20%20%20%20%20%20%20%20%20%20%20%20%20%20%20%20%20%3C/div%3E%60%2C%0A%20%20%20%20%20%20%20%20%20%20%20%20%20%20%20%20%7B%22sticky%22%3A%20true%7D%0A%20%20%20%20%20%20%20%20%20%20%20%20%29%3B%0A%20%20%20%20%20%20%20%20%0A%3C/script%3E onload=\"this.contentDocument.open();this.contentDocument.write(    decodeURIComponent(this.getAttribute('data-html')));this.contentDocument.close();\" allowfullscreen webkitallowfullscreen mozallowfullscreen></iframe></div></div>"
      ],
      "text/plain": [
       "<folium.folium.Map at 0x27ffb467748>"
      ]
     },
     "execution_count": 141,
     "metadata": {},
     "output_type": "execute_result"
    }
   ],
   "source": [
    "marker_brook.add_to(map_1)\n",
    "map_1"
   ]
  },
  {
   "cell_type": "code",
   "execution_count": 142,
   "id": "837e27cf",
   "metadata": {},
   "outputs": [
    {
     "data": {
      "text/html": [
       "<div>\n",
       "<style scoped>\n",
       "    .dataframe tbody tr th:only-of-type {\n",
       "        vertical-align: middle;\n",
       "    }\n",
       "\n",
       "    .dataframe tbody tr th {\n",
       "        vertical-align: top;\n",
       "    }\n",
       "\n",
       "    .dataframe thead th {\n",
       "        text-align: right;\n",
       "    }\n",
       "</style>\n",
       "<table border=\"1\" class=\"dataframe\">\n",
       "  <thead>\n",
       "    <tr style=\"text-align: right;\">\n",
       "      <th></th>\n",
       "      <th>restaurant_name</th>\n",
       "      <th>borough</th>\n",
       "      <th>street</th>\n",
       "      <th>longitude</th>\n",
       "      <th>latitude</th>\n",
       "    </tr>\n",
       "  </thead>\n",
       "  <tbody>\n",
       "    <tr>\n",
       "      <th>0</th>\n",
       "      <td>Pomp and Circumstance Hospitality</td>\n",
       "      <td>Brooklyn</td>\n",
       "      <td>Lorimer Street</td>\n",
       "      <td>-73.949416</td>\n",
       "      <td>40.714264</td>\n",
       "    </tr>\n",
       "    <tr>\n",
       "      <th>1</th>\n",
       "      <td>Charm Kao</td>\n",
       "      <td>Brooklyn</td>\n",
       "      <td>Schermerhorn St.</td>\n",
       "      <td>-73.986352</td>\n",
       "      <td>40.689107</td>\n",
       "    </tr>\n",
       "    <tr>\n",
       "      <th>2</th>\n",
       "      <td>SAKE BAR HAGI 46</td>\n",
       "      <td>Manhattan</td>\n",
       "      <td>W. 46TH STREET</td>\n",
       "      <td>-73.989528</td>\n",
       "      <td>40.760463</td>\n",
       "    </tr>\n",
       "    <tr>\n",
       "      <th>3</th>\n",
       "      <td>Yum yum too</td>\n",
       "      <td>Manhattan</td>\n",
       "      <td>9ave</td>\n",
       "      <td>-73.990683</td>\n",
       "      <td>40.761081</td>\n",
       "    </tr>\n",
       "    <tr>\n",
       "      <th>4</th>\n",
       "      <td>Xochil Pizza Corp</td>\n",
       "      <td>Brooklyn</td>\n",
       "      <td>5th Avenue</td>\n",
       "      <td>-74.008216</td>\n",
       "      <td>40.647140</td>\n",
       "    </tr>\n",
       "  </tbody>\n",
       "</table>\n",
       "</div>"
      ],
      "text/plain": [
       "                     restaurant_name    borough            street  longitude  \\\n",
       "0  Pomp and Circumstance Hospitality   Brooklyn    Lorimer Street -73.949416   \n",
       "1                          Charm Kao   Brooklyn  Schermerhorn St. -73.986352   \n",
       "2                   SAKE BAR HAGI 46  Manhattan    W. 46TH STREET -73.989528   \n",
       "3                        Yum yum too  Manhattan              9ave -73.990683   \n",
       "4                  Xochil Pizza Corp   Brooklyn        5th Avenue -74.008216   \n",
       "\n",
       "    latitude  \n",
       "0  40.714264  \n",
       "1  40.689107  \n",
       "2  40.760463  \n",
       "3  40.761081  \n",
       "4  40.647140  "
      ]
     },
     "execution_count": 142,
     "metadata": {},
     "output_type": "execute_result"
    }
   ],
   "source": [
    "#And, wont it be great to also see a heat map of restaurants to have all on a same map?\n",
    "restaurants_NY = pd.read_csv(\"output/data_NYrestaurants_output.csv\",encoding = \"ISO-8859-1\")\n",
    "restaurants_NY.head()"
   ]
  },
  {
   "cell_type": "code",
   "execution_count": 143,
   "id": "09541e6d",
   "metadata": {},
   "outputs": [
    {
     "data": {
      "text/plain": [
       "<folium.map.FeatureGroup at 0x27f92c8aeb8>"
      ]
     },
     "execution_count": 143,
     "metadata": {},
     "output_type": "execute_result"
    }
   ],
   "source": [
    "restaurants = folium.FeatureGroup(name = \"restaurants_NY\")\n",
    "HeatMap(data = restaurants_NY [[\"latitude\",\"longitude\"]], radius=15).add_to(restaurants)\n",
    "morning_group.add_to(map_1)"
   ]
  },
  {
   "cell_type": "code",
   "execution_count": 144,
   "id": "c61e040b",
   "metadata": {},
   "outputs": [
    {
     "data": {
      "text/html": [
       "<div style=\"width:100%;\"><div style=\"position:relative;width:100%;height:0;padding-bottom:60%;\"><span style=\"color:#565656\">Make this Notebook Trusted to load map: File -> Trust Notebook</span><iframe src=\"about:blank\" style=\"position:absolute;width:100%;height:100%;left:0;top:0;border:none !important;\" data-html=%3C%21DOCTYPE%20html%3E%0A%3Chead%3E%20%20%20%20%0A%20%20%20%20%3Cmeta%20http-equiv%3D%22content-type%22%20content%3D%22text/html%3B%20charset%3DUTF-8%22%20/%3E%0A%20%20%20%20%0A%20%20%20%20%20%20%20%20%3Cscript%3E%0A%20%20%20%20%20%20%20%20%20%20%20%20L_NO_TOUCH%20%3D%20false%3B%0A%20%20%20%20%20%20%20%20%20%20%20%20L_DISABLE_3D%20%3D%20false%3B%0A%20%20%20%20%20%20%20%20%3C/script%3E%0A%20%20%20%20%0A%20%20%20%20%3Cstyle%3Ehtml%2C%20body%20%7Bwidth%3A%20100%25%3Bheight%3A%20100%25%3Bmargin%3A%200%3Bpadding%3A%200%3B%7D%3C/style%3E%0A%20%20%20%20%3Cstyle%3E%23map%20%7Bposition%3Aabsolute%3Btop%3A0%3Bbottom%3A0%3Bright%3A0%3Bleft%3A0%3B%7D%3C/style%3E%0A%20%20%20%20%3Cscript%20src%3D%22https%3A//cdn.jsdelivr.net/npm/leaflet%401.6.0/dist/leaflet.js%22%3E%3C/script%3E%0A%20%20%20%20%3Cscript%20src%3D%22https%3A//code.jquery.com/jquery-1.12.4.min.js%22%3E%3C/script%3E%0A%20%20%20%20%3Cscript%20src%3D%22https%3A//maxcdn.bootstrapcdn.com/bootstrap/3.2.0/js/bootstrap.min.js%22%3E%3C/script%3E%0A%20%20%20%20%3Cscript%20src%3D%22https%3A//cdnjs.cloudflare.com/ajax/libs/Leaflet.awesome-markers/2.0.2/leaflet.awesome-markers.js%22%3E%3C/script%3E%0A%20%20%20%20%3Clink%20rel%3D%22stylesheet%22%20href%3D%22https%3A//cdn.jsdelivr.net/npm/leaflet%401.6.0/dist/leaflet.css%22/%3E%0A%20%20%20%20%3Clink%20rel%3D%22stylesheet%22%20href%3D%22https%3A//maxcdn.bootstrapcdn.com/bootstrap/3.2.0/css/bootstrap.min.css%22/%3E%0A%20%20%20%20%3Clink%20rel%3D%22stylesheet%22%20href%3D%22https%3A//maxcdn.bootstrapcdn.com/bootstrap/3.2.0/css/bootstrap-theme.min.css%22/%3E%0A%20%20%20%20%3Clink%20rel%3D%22stylesheet%22%20href%3D%22https%3A//maxcdn.bootstrapcdn.com/font-awesome/4.6.3/css/font-awesome.min.css%22/%3E%0A%20%20%20%20%3Clink%20rel%3D%22stylesheet%22%20href%3D%22https%3A//cdnjs.cloudflare.com/ajax/libs/Leaflet.awesome-markers/2.0.2/leaflet.awesome-markers.css%22/%3E%0A%20%20%20%20%3Clink%20rel%3D%22stylesheet%22%20href%3D%22https%3A//cdn.jsdelivr.net/gh/python-visualization/folium/folium/templates/leaflet.awesome.rotate.min.css%22/%3E%0A%20%20%20%20%0A%20%20%20%20%20%20%20%20%20%20%20%20%3Cmeta%20name%3D%22viewport%22%20content%3D%22width%3Ddevice-width%2C%0A%20%20%20%20%20%20%20%20%20%20%20%20%20%20%20%20initial-scale%3D1.0%2C%20maximum-scale%3D1.0%2C%20user-scalable%3Dno%22%20/%3E%0A%20%20%20%20%20%20%20%20%20%20%20%20%3Cstyle%3E%0A%20%20%20%20%20%20%20%20%20%20%20%20%20%20%20%20%23map_dc028ca44de340faa2048c2435d05194%20%7B%0A%20%20%20%20%20%20%20%20%20%20%20%20%20%20%20%20%20%20%20%20position%3A%20relative%3B%0A%20%20%20%20%20%20%20%20%20%20%20%20%20%20%20%20%20%20%20%20width%3A%20100.0%25%3B%0A%20%20%20%20%20%20%20%20%20%20%20%20%20%20%20%20%20%20%20%20height%3A%20100.0%25%3B%0A%20%20%20%20%20%20%20%20%20%20%20%20%20%20%20%20%20%20%20%20left%3A%200.0%25%3B%0A%20%20%20%20%20%20%20%20%20%20%20%20%20%20%20%20%20%20%20%20top%3A%200.0%25%3B%0A%20%20%20%20%20%20%20%20%20%20%20%20%20%20%20%20%7D%0A%20%20%20%20%20%20%20%20%20%20%20%20%3C/style%3E%0A%20%20%20%20%20%20%20%20%0A%20%20%20%20%3Cscript%20src%3D%22https%3A//cdn.jsdelivr.net/gh/python-visualization/folium%40master/folium/templates/leaflet_heat.min.js%22%3E%3C/script%3E%0A%3C/head%3E%0A%3Cbody%3E%20%20%20%20%0A%20%20%20%20%0A%20%20%20%20%20%20%20%20%20%20%20%20%3Cdiv%20class%3D%22folium-map%22%20id%3D%22map_dc028ca44de340faa2048c2435d05194%22%20%3E%3C/div%3E%0A%20%20%20%20%20%20%20%20%0A%3C/body%3E%0A%3Cscript%3E%20%20%20%20%0A%20%20%20%20%0A%20%20%20%20%20%20%20%20%20%20%20%20var%20map_dc028ca44de340faa2048c2435d05194%20%3D%20L.map%28%0A%20%20%20%20%20%20%20%20%20%20%20%20%20%20%20%20%22map_dc028ca44de340faa2048c2435d05194%22%2C%0A%20%20%20%20%20%20%20%20%20%20%20%20%20%20%20%20%7B%0A%20%20%20%20%20%20%20%20%20%20%20%20%20%20%20%20%20%20%20%20center%3A%20%5B40.78343%2C%20-73.96625%5D%2C%0A%20%20%20%20%20%20%20%20%20%20%20%20%20%20%20%20%20%20%20%20crs%3A%20L.CRS.EPSG3857%2C%0A%20%20%20%20%20%20%20%20%20%20%20%20%20%20%20%20%20%20%20%20zoom%3A%2011.4%2C%0A%20%20%20%20%20%20%20%20%20%20%20%20%20%20%20%20%20%20%20%20zoomControl%3A%20true%2C%0A%20%20%20%20%20%20%20%20%20%20%20%20%20%20%20%20%20%20%20%20preferCanvas%3A%20false%2C%0A%20%20%20%20%20%20%20%20%20%20%20%20%20%20%20%20%7D%0A%20%20%20%20%20%20%20%20%20%20%20%20%29%3B%0A%0A%20%20%20%20%20%20%20%20%20%20%20%20%0A%0A%20%20%20%20%20%20%20%20%0A%20%20%20%20%0A%20%20%20%20%20%20%20%20%20%20%20%20var%20tile_layer_c775d48e68794ea79d2dc83e67a2bc00%20%3D%20L.tileLayer%28%0A%20%20%20%20%20%20%20%20%20%20%20%20%20%20%20%20%22https%3A//%7Bs%7D.tile.openstreetmap.org/%7Bz%7D/%7Bx%7D/%7By%7D.png%22%2C%0A%20%20%20%20%20%20%20%20%20%20%20%20%20%20%20%20%7B%22attribution%22%3A%20%22Data%20by%20%5Cu0026copy%3B%20%5Cu003ca%20href%3D%5C%22http%3A//openstreetmap.org%5C%22%5Cu003eOpenStreetMap%5Cu003c/a%5Cu003e%2C%20under%20%5Cu003ca%20href%3D%5C%22http%3A//www.openstreetmap.org/copyright%5C%22%5Cu003eODbL%5Cu003c/a%5Cu003e.%22%2C%20%22detectRetina%22%3A%20false%2C%20%22maxNativeZoom%22%3A%2018%2C%20%22maxZoom%22%3A%2018%2C%20%22minZoom%22%3A%200%2C%20%22noWrap%22%3A%20false%2C%20%22opacity%22%3A%201%2C%20%22subdomains%22%3A%20%22abc%22%2C%20%22tms%22%3A%20false%7D%0A%20%20%20%20%20%20%20%20%20%20%20%20%29.addTo%28map_dc028ca44de340faa2048c2435d05194%29%3B%0A%20%20%20%20%20%20%20%20%0A%20%20%20%20%0A%20%20%20%20%20%20%20%20%20%20%20%20var%20marker_a7500f53254a44e491f2bdfb6da431c7%20%3D%20L.marker%28%0A%20%20%20%20%20%20%20%20%20%20%20%20%20%20%20%20%5B40.78343%2C%20-73.96625%5D%2C%0A%20%20%20%20%20%20%20%20%20%20%20%20%20%20%20%20%7B%7D%0A%20%20%20%20%20%20%20%20%20%20%20%20%29.addTo%28map_dc028ca44de340faa2048c2435d05194%29%3B%0A%20%20%20%20%20%20%20%20%0A%20%20%20%20%0A%20%20%20%20%20%20%20%20%20%20%20%20var%20icon_7703449735b148b9b0524e8fd0badd27%20%3D%20L.AwesomeMarkers.icon%28%0A%20%20%20%20%20%20%20%20%20%20%20%20%20%20%20%20%7B%22extraClasses%22%3A%20%22fa-rotate-0%22%2C%20%22icon%22%3A%20%22dollar%22%2C%20%22iconColor%22%3A%20%22black%22%2C%20%22markerColor%22%3A%20%22green%22%2C%20%22prefix%22%3A%20%22fa%22%7D%0A%20%20%20%20%20%20%20%20%20%20%20%20%29%3B%0A%20%20%20%20%20%20%20%20%20%20%20%20marker_a7500f53254a44e491f2bdfb6da431c7.setIcon%28icon_7703449735b148b9b0524e8fd0badd27%29%3B%0A%20%20%20%20%20%20%20%20%0A%20%20%20%20%0A%20%20%20%20%20%20%20%20%20%20%20%20marker_a7500f53254a44e491f2bdfb6da431c7.bindTooltip%28%0A%20%20%20%20%20%20%20%20%20%20%20%20%20%20%20%20%60%3Cdiv%3E%0A%20%20%20%20%20%20%20%20%20%20%20%20%20%20%20%20%20%20%20%20%20Manhattan%0A%20%20%20%20%20%20%20%20%20%20%20%20%20%20%20%20%20%3C/div%3E%60%2C%0A%20%20%20%20%20%20%20%20%20%20%20%20%20%20%20%20%7B%22sticky%22%3A%20true%7D%0A%20%20%20%20%20%20%20%20%20%20%20%20%29%3B%0A%20%20%20%20%20%20%20%20%0A%20%20%20%20%0A%20%20%20%20%20%20%20%20%20%20%20%20var%20marker_21d7358993d64a19b973d5036986dc8f%20%3D%20L.marker%28%0A%20%20%20%20%20%20%20%20%20%20%20%20%20%20%20%20%5B40.6501%2C%20-73.94958%5D%2C%0A%20%20%20%20%20%20%20%20%20%20%20%20%20%20%20%20%7B%7D%0A%20%20%20%20%20%20%20%20%20%20%20%20%29.addTo%28map_dc028ca44de340faa2048c2435d05194%29%3B%0A%20%20%20%20%20%20%20%20%0A%20%20%20%20%0A%20%20%20%20%20%20%20%20%20%20%20%20var%20icon_7b0caeebc6274e5ea15575add84f8221%20%3D%20L.AwesomeMarkers.icon%28%0A%20%20%20%20%20%20%20%20%20%20%20%20%20%20%20%20%7B%22extraClasses%22%3A%20%22fa-rotate-0%22%2C%20%22icon%22%3A%20%22home%22%2C%20%22iconColor%22%3A%20%22black%22%2C%20%22markerColor%22%3A%20%22green%22%2C%20%22prefix%22%3A%20%22fa%22%7D%0A%20%20%20%20%20%20%20%20%20%20%20%20%29%3B%0A%20%20%20%20%20%20%20%20%20%20%20%20marker_21d7358993d64a19b973d5036986dc8f.setIcon%28icon_7b0caeebc6274e5ea15575add84f8221%29%3B%0A%20%20%20%20%20%20%20%20%0A%20%20%20%20%0A%20%20%20%20%20%20%20%20%20%20%20%20marker_21d7358993d64a19b973d5036986dc8f.bindTooltip%28%0A%20%20%20%20%20%20%20%20%20%20%20%20%20%20%20%20%60%3Cdiv%3E%0A%20%20%20%20%20%20%20%20%20%20%20%20%20%20%20%20%20%20%20%20%20Brooklyn%0A%20%20%20%20%20%20%20%20%20%20%20%20%20%20%20%20%20%3C/div%3E%60%2C%0A%20%20%20%20%20%20%20%20%20%20%20%20%20%20%20%20%7B%22sticky%22%3A%20true%7D%0A%20%20%20%20%20%20%20%20%20%20%20%20%29%3B%0A%20%20%20%20%20%20%20%20%0A%20%20%20%20%0A%20%20%20%20%20%20%20%20%20%20%20%20var%20feature_group_a3c7cf3d013a4a61a02700f7b43a27b2%20%3D%20L.featureGroup%28%0A%20%20%20%20%20%20%20%20%20%20%20%20%20%20%20%20%7B%7D%0A%20%20%20%20%20%20%20%20%20%20%20%20%29.addTo%28map_dc028ca44de340faa2048c2435d05194%29%3B%0A%20%20%20%20%20%20%20%20%0A%20%20%20%20%0A%20%20%20%20%20%20%20%20%20%20%20%20var%20heat_map_529c5d41bcf9456090ef75f852690b6d%20%3D%20L.heatLayer%28%0A%20%20%20%20%20%20%20%20%20%20%20%20%20%20%20%20%5B%5B40.714264%2C%20-73.949416%5D%2C%20%5B40.689107%2C%20-73.986352%5D%2C%20%5B40.760463%2C%20-73.989528%5D%2C%20%5B40.761081%2C%20-73.99068299999999%5D%2C%20%5B40.64714%2C%20-74.008216%5D%2C%20%5B40.704023%2C%20-74.0102%5D%2C%20%5B40.647729999999996%2C%20-74.007575%5D%2C%20%5B40.800934999999996%2C%20-73.965333%5D%2C%20%5B40.821318%2C%20-73.944732%5D%2C%20%5B40.789159999999995%2C%20-73.973952%5D%2C%20%5B40.647760999999996%2C%20-74.007542%5D%2C%20%5B40.710233%2C%20-74.01633299999999%5D%2C%20%5B40.64781%2C%20-74.007492%5D%2C%20%5B40.678042%2C%20-73.968714%5D%2C%20%5B40.758712%2C%20-73.993326%5D%2C%20%5B40.74451%2C%20-73.911345%5D%2C%20%5B40.713085%2C%20-73.936027%5D%2C%20%5B40.749581%2C%20-73.975324%5D%2C%20%5B40.798751%2C%20-73.96695600000001%5D%2C%20%5B40.678287%2C%20-73.968623%5D%2C%20%5B40.58055%2C%20-73.83764000000001%5D%2C%20%5B40.733309999999996%2C%20-74.004868%5D%2C%20%5B40.716803000000006%2C%20-73.996811%5D%2C%20%5B40.714258%2C%20-73.997857%5D%2C%20%5B40.631039%2C%20-73.947487%5D%2C%20%5B40.8396%2C%20-73.783632%5D%2C%20%5B40.683374%2C%20-73.99978399999999%5D%2C%20%5B40.7368%2C%20-73.987746%5D%2C%20%5B40.730527%2C%20-74.000054%5D%2C%20%5B40.754694%2C%20-73.89353%5D%2C%20%5B40.689053%2C%20-73.816891%5D%2C%20%5B40.720129%2C%20-73.90558%5D%2C%20%5B40.682232%2C%20-73.995951%5D%2C%20%5B40.674461%2C%20-73.981881%5D%2C%20%5B40.68229%2C%20-73.995922%5D%2C%20%5B40.727321%2C%20-74.002738%5D%2C%20%5B40.8535%2C%20-73.930687%5D%2C%20%5B40.83167%2C%20-73.86712800000001%5D%2C%20%5B40.724655%2C%20-73.992427%5D%2C%20%5B40.603102%2C%20-73.75075600000001%5D%2C%20%5B40.689787%2C%20-73.97766899999999%5D%2C%20%5B40.703528000000006%2C%20-73.92663%5D%2C%20%5B40.76506%2C%20-73.771745%5D%2C%20%5B40.701819%2C%20-73.943727%5D%2C%20%5B40.62324%2C%20-74.031164%5D%2C%20%5B40.764091%2C%20-73.97068399999999%5D%2C%20%5B40.714094%2C%20-73.99763399999999%5D%2C%20%5B40.77511%2C%20-73.956703%5D%2C%20%5B40.818605%2C%20-73.916611%5D%2C%20%5B40.718734999999995%2C%20-73.992211%5D%2C%20%5B40.790014%2C%20-73.97515%5D%2C%20%5B40.831005%2C%20-73.94131999999999%5D%2C%20%5B40.680040000000005%2C%20-73.97799300000001%5D%2C%20%5B40.765370000000004%2C%20-73.96978100000001%5D%2C%20%5B40.854246999999994%2C%20-73.888674%5D%2C%20%5B40.764069%2C%20-73.97063%5D%2C%20%5B40.759785%2C%20-73.829236%5D%2C%20%5B40.61809%2C%20-73.999308%5D%2C%20%5B40.758924%2C%20-73.829809%5D%2C%20%5B40.637108000000005%2C%20-74.007865%5D%2C%20%5B40.765611%2C%20-73.982322%5D%2C%20%5B40.741501%2C%20-73.880563%5D%2C%20%5B40.7291%2C%20-73.95033199999999%5D%2C%20%5B40.720490999999996%2C%20-73.90556099999999%5D%2C%20%5B40.698995000000004%2C%20-73.91663100000001%5D%2C%20%5B40.618714000000004%2C%20-73.930599%5D%2C%20%5B40.741438%2C%20-73.981235%5D%2C%20%5B40.778278%2C%20-73.978148%5D%2C%20%5B40.749951%2C%20-73.882284%5D%2C%20%5B40.678185%2C%20-73.958352%5D%2C%20%5B40.714006%2C%20-73.990849%5D%2C%20%5B40.714739%2C%20-73.997681%5D%2C%20%5B40.763022%2C%20-73.831715%5D%2C%20%5B40.759485%2C%20-73.83224399999999%5D%2C%20%5B40.852916%2C%20-73.908178%5D%2C%20%5B40.764925%2C%20-73.77166899999999%5D%2C%20%5B40.661758%2C%20-73.947491%5D%2C%20%5B40.764925%2C%20-73.77166899999999%5D%2C%20%5B40.707741999999996%2C%20-73.920497%5D%2C%20%5B40.715175%2C%20-73.99874799999999%5D%2C%20%5B40.715175%2C%20-73.99874799999999%5D%2C%20%5B40.723437%2C%20-73.997341%5D%2C%20%5B40.634319%2C%20-74.135862%5D%2C%20%5B40.758517%2C%20-73.776301%5D%2C%20%5B40.755121%2C%20-73.968356%5D%2C%20%5B40.745956%2C%20-73.95303299999999%5D%2C%20%5B40.745956%2C%20-73.95303299999999%5D%2C%20%5B40.707026%2C%20-74.002575%5D%2C%20%5B40.592772%2C%20-73.92506999999999%5D%2C%20%5B40.592772%2C%20-73.92506999999999%5D%2C%20%5B40.729093%2C%20-73.987303%5D%2C%20%5B40.788491%2C%20-73.97694200000001%5D%2C%20%5B40.725499%2C%20-73.94547800000001%5D%2C%20%5B40.739397%2C%20-74.00728199999999%5D%2C%20%5B40.730605%2C%20-73.863635%5D%2C%20%5B40.762636%2C%20-73.92681800000001%5D%2C%20%5B40.802254%2C%20-73.953243%5D%2C%20%5B40.72937%2C%20-73.987123%5D%2C%20%5B40.781015999999994%2C%20-73.94944100000001%5D%2C%20%5B40.775283%2C%20-73.909513%5D%2C%20%5B40.84427%2C%20-73.942562%5D%2C%20%5B40.760391%2C%20-73.961416%5D%2C%20%5B40.610695%2C%20-73.962521%5D%2C%20%5B40.749362%2C%20-73.755525%5D%2C%20%5B40.737496%2C%20-74.001671%5D%2C%20%5B40.747414%2C%20-73.986091%5D%2C%20%5B40.747475%2C%20-73.986278%5D%2C%20%5B40.718815%2C%20-73.956689%5D%2C%20%5B40.758978000000006%2C%20-73.98992199999999%5D%2C%20%5B40.771122999999996%2C%20-73.95359%5D%2C%20%5B40.746626%2C%20-73.900464%5D%2C%20%5B40.71868%2C%20-73.99063100000001%5D%2C%20%5B40.761371999999994%2C%20-73.83286700000001%5D%2C%20%5B40.724599%2C%20-73.951273%5D%2C%20%5B40.743134999999995%2C%20-73.918449%5D%2C%20%5B40.747468%2C%20-73.885598%5D%2C%20%5B40.647755%2C%20-74.007575%5D%2C%20%5B40.708025%2C%20-74.001789%5D%2C%20%5B40.747468%2C%20-73.885598%5D%2C%20%5B40.735261%2C%20-74.00061%5D%2C%20%5B40.856525%2C%20-73.892022%5D%2C%20%5B40.756039%2C%20-73.990651%5D%2C%20%5B40.729997%2C%20-74.00348199999999%5D%2C%20%5B40.723979%2C%20-73.985031%5D%2C%20%5B40.775438%2C%20-73.953507%5D%2C%20%5B40.802562%2C%20-73.964176%5D%2C%20%5B40.802562%2C%20-73.964176%5D%2C%20%5B40.764939%2C%20-73.77168%5D%2C%20%5B40.759406%2C%20-73.768858%5D%2C%20%5B40.719755%2C%20-73.987262%5D%2C%20%5B40.703528000000006%2C%20-73.92663%5D%2C%20%5B40.74342%2C%20-73.888712%5D%2C%20%5B40.891331%2C%20-73.85081600000001%5D%2C%20%5B40.756644%2C%20-73.914028%5D%2C%20%5B40.756644%2C%20-73.914028%5D%2C%20%5B40.764897%2C%20-73.81214399999999%5D%2C%20%5B40.771563%2C%20-73.734724%5D%2C%20%5B40.74515%2C%20-73.988383%5D%2C%20%5B40.74654%2C%20-73.917863%5D%2C%20%5B40.646741%2C%20-74.019358%5D%2C%20%5B40.605391999999995%2C%20-73.99958199999999%5D%2C%20%5B40.758855%2C%20-73.96424300000001%5D%2C%20%5B40.684146999999996%2C%20-73.832628%5D%2C%20%5B40.785598%2C%20-73.97655300000001%5D%2C%20%5B40.606257%2C%20-74.001008%5D%2C%20%5B40.852855%2C%20-73.888521%5D%2C%20%5B40.852855%2C%20-73.888521%5D%2C%20%5B40.767195%2C%20-73.92201800000001%5D%2C%20%5B40.723994%2C%20-74.01026800000001%5D%2C%20%5B40.840252%2C%20-73.842499%5D%2C%20%5B40.636638%2C%20-74.014542%5D%2C%20%5B40.740679%2C%20-73.879413%5D%2C%20%5B40.712511%2C%20-73.940977%5D%2C%20%5B40.728317%2C%20-73.783925%5D%2C%20%5B40.712849%2C%20-73.87820500000001%5D%2C%20%5B40.665312%2C%20-73.98291400000001%5D%2C%20%5B40.596647999999995%2C%20-73.97631700000001%5D%2C%20%5B40.714878999999996%2C%20-73.998261%5D%2C%20%5B40.69379%2C%20-73.962767%5D%2C%20%5B40.734034%2C%20-73.99985600000001%5D%2C%20%5B40.743215%2C%20-73.915626%5D%2C%20%5B40.802254%2C%20-73.953243%5D%2C%20%5B40.770845%2C%20-73.966132%5D%2C%20%5B40.726535%2C%20-73.991734%5D%2C%20%5B40.674096999999996%2C%20-73.975724%5D%2C%20%5B40.757405%2C%20-73.98619000000001%5D%2C%20%5B40.763379%2C%20-73.979001%5D%2C%20%5B40.755327%2C%20-73.971106%5D%2C%20%5B40.755327%2C%20-73.971106%5D%2C%20%5B40.760911%2C%20-73.832872%5D%2C%20%5B40.721224%2C%20-73.988636%5D%2C%20%5B40.764520000000005%2C%20-73.975528%5D%2C%20%5B40.741955%2C%20-73.985089%5D%2C%20%5B40.774522%2C%20-73.963447%5D%2C%20%5B40.709236%2C%20-73.77560799999999%5D%2C%20%5B40.723857%2C%20-73.950852%5D%2C%20%5B40.757314%2C%20-73.968489%5D%2C%20%5B40.780737%2C%20-73.981379%5D%2C%20%5B40.732689%2C%20-74.002522%5D%2C%20%5B40.724755%2C%20-73.951338%5D%2C%20%5B40.751704%2C%20-73.987599%5D%2C%20%5B40.731352%2C%20-73.985679%5D%2C%20%5B40.760911%2C%20-73.832872%5D%2C%20%5B40.760911%2C%20-73.832872%5D%2C%20%5B40.861553%2C%20-73.89761700000001%5D%2C%20%5B40.706657%2C%20-73.79804399999999%5D%2C%20%5B40.732711%2C%20-73.987617%5D%2C%20%5B40.631821%2C%20-74.012837%5D%2C%20%5B40.784299%2C%20-73.973784%5D%2C%20%5B40.789074%2C%20-73.812845%5D%2C%20%5B40.735484%2C%20-73.998196%5D%2C%20%5B40.808165%2C%20-73.945187%5D%2C%20%5B40.722774%2C%20-73.98518%5D%2C%20%5B40.641209%2C%20-74.007217%5D%2C%20%5B40.717048%2C%20-73.958555%5D%2C%20%5B40.71445%2C%20-73.990412%5D%2C%20%5B40.691448%2C%20-73.812597%5D%2C%20%5B40.708215%2C%20-73.939942%5D%2C%20%5B40.675406%2C%20-73.962629%5D%2C%20%5B40.675406%2C%20-73.962629%5D%2C%20%5B40.63991%2C%20-74.016867%5D%2C%20%5B40.758856%2C%20-73.830119%5D%2C%20%5B40.775766%2C%20-73.910155%5D%2C%20%5B40.791407%2C%20-73.972311%5D%2C%20%5B40.72935%2C%20-73.957497%5D%2C%20%5B40.747249%2C%20-73.88385799999999%5D%2C%20%5B40.809378%2C%20-73.944301%5D%2C%20%5B40.677535%2C%20-73.96891600000001%5D%2C%20%5B40.675406%2C%20-73.962629%5D%2C%20%5B40.747999%2C%20-74.008496%5D%2C%20%5B40.753118%2C%20-73.97208499999999%5D%2C%20%5B40.733131%2C%20-73.993484%5D%2C%20%5B40.732453%2C%20-73.987779%5D%2C%20%5B40.726529%2C%20-73.986052%5D%2C%20%5B40.689617999999996%2C%20-73.97327299999999%5D%2C%20%5B40.702763%2C%20-73.986681%5D%2C%20%5B40.702763%2C%20-73.986681%5D%2C%20%5B40.716243%2C%20-73.963934%5D%2C%20%5B40.676145%2C%20-73.950703%5D%2C%20%5B40.693869%2C%20-73.828684%5D%2C%20%5B40.707741999999996%2C%20-73.920497%5D%2C%20%5B40.714601%2C%20-73.961504%5D%2C%20%5B40.704034%2C%20-74.012068%5D%2C%20%5B40.602252%2C%20-73.994325%5D%2C%20%5B40.740028%2C%20-73.982289%5D%2C%20%5B40.680689%2C%20-73.842638%5D%2C%20%5B40.721793%2C%20-73.994502%5D%2C%20%5B40.743251%2C%20-73.919448%5D%2C%20%5B40.746264000000004%2C%20-73.988538%5D%2C%20%5B40.688798999999996%2C%20-73.817537%5D%2C%20%5B40.828499%2C%20-73.881072%5D%2C%20%5B40.771518%2C%20-73.982151%5D%2C%20%5B40.717182%2C%20-73.995476%5D%2C%20%5B40.721848%2C%20-73.994484%5D%2C%20%5B40.759543%2C%20-73.98437%5D%2C%20%5B40.697915%2C%20-73.926817%5D%2C%20%5B40.714467%2C%20-73.990466%5D%2C%20%5B40.821836%2C%20-73.95010699999999%5D%2C%20%5B40.677774%2C%20-73.984%5D%2C%20%5B40.746223%2C%20-73.915081%5D%2C%20%5B40.762572999999996%2C%20-73.804343%5D%2C%20%5B40.727517999999996%2C%20-73.86402%5D%2C%20%5B40.740646000000005%2C%20-73.987474%5D%2C%20%5B40.832646999999994%2C%20-73.859433%5D%2C%20%5B40.707506%2C%20-74.002157%5D%2C%20%5B40.746655%2C%20-73.89318100000001%5D%2C%20%5B40.784485%2C%20-73.95615500000001%5D%2C%20%5B40.817797%2C%20-73.960851%5D%2C%20%5B40.718941%2C%20-74.006522%5D%2C%20%5B40.678602000000005%2C%20-73.978967%5D%2C%20%5B40.723715999999996%2C%20-73.98352299999999%5D%2C%20%5B40.747510999999996%2C%20-73.996864%5D%2C%20%5B40.731833%2C%20-74.006589%5D%2C%20%5B40.81924%2C%20-73.95200200000001%5D%2C%20%5B40.678212%2C%20-73.97923%5D%2C%20%5B40.726971%2C%20-73.987542%5D%2C%20%5B40.707333%2C%20-74.00253199999999%5D%2C%20%5B40.740119%2C%20-74.003414%5D%2C%20%5B40.724625%2C%20-74.003889%5D%2C%20%5B40.760911%2C%20-73.832872%5D%2C%20%5B40.734646000000005%2C%20-73.95497900000001%5D%2C%20%5B40.74342%2C%20-73.888712%5D%2C%20%5B40.747234000000006%2C%20-74.000772%5D%2C%20%5B40.680304%2C%20-73.967901%5D%2C%20%5B40.677877%2C%20-73.979479%5D%2C%20%5B40.610876%2C%20-73.962532%5D%2C%20%5B40.677580999999996%2C%20-73.979652%5D%2C%20%5B40.751181%2C%20-73.97540699999999%5D%2C%20%5B40.699583000000004%2C%20-73.910737%5D%2C%20%5B40.678651%2C%20-73.978934%5D%2C%20%5B40.730436%2C%20-74.00680799999999%5D%2C%20%5B40.748296%2C%20-73.988465%5D%2C%20%5B40.740165999999995%2C%20-73.989492%5D%2C%20%5B40.63991%2C%20-74.016867%5D%2C%20%5B40.748554%2C%20-74.00353299999999%5D%2C%20%5B40.774512%2C%20-73.979875%5D%2C%20%5B40.589514%2C%20-74.089443%5D%2C%20%5B40.678546000000004%2C%20-73.97342900000001%5D%2C%20%5B40.715768%2C%20-73.94459499999999%5D%2C%20%5B40.701684%2C%20-73.923383%5D%2C%20%5B40.717659000000005%2C%20-73.99521700000001%5D%2C%20%5B40.759106%2C%20-73.83414%5D%2C%20%5B40.74763%2C%20-73.89159599999999%5D%2C%20%5B40.718332000000004%2C%20-73.99783599999999%5D%2C%20%5B40.728157%2C%20-73.986654%5D%2C%20%5B40.738481%2C%20-74.00222600000001%5D%2C%20%5B40.758477%2C%20-73.829611%5D%2C%20%5B40.714271000000004%2C%20-73.96075%5D%2C%20%5B40.740598999999996%2C%20-73.987359%5D%2C%20%5B40.753648999999996%2C%20-73.822499%5D%2C%20%5B40.862446999999996%2C%20-73.90024%5D%2C%20%5B40.676305%2C%20-73.89196700000001%5D%2C%20%5B40.862446999999996%2C%20-73.90024%5D%2C%20%5B40.688059%2C%20-73.92710100000001%5D%2C%20%5B40.711541%2C%20-74.006027%5D%2C%20%5B40.667882%2C%20-73.987365%5D%2C%20%5B40.76522%2C%20-73.987697%5D%2C%20%5B40.685851%2C%20-73.86501700000001%5D%2C%20%5B40.725175%2C%20-73.951576%5D%2C%20%5B40.774763%2C%20-73.908748%5D%2C%20%5B40.665274%2C%20-73.922905%5D%2C%20%5B40.775765%2C%20-73.954727%5D%2C%20%5B40.702479%2C%20-73.926873%5D%2C%20%5B40.726794%2C%20-73.995631%5D%2C%20%5B40.753265999999996%2C%20-73.984379%5D%2C%20%5B40.774731%2C%20-73.95093%5D%2C%20%5B40.732484%2C%20-74.003724%5D%2C%20%5B40.7696%2C%20-73.95470300000001%5D%2C%20%5B40.760222%2C%20-73.975342%5D%2C%20%5B40.721389%2C%20-74.00171%5D%2C%20%5B40.715090000000004%2C%20-74.009566%5D%2C%20%5B40.754434%2C%20-73.979138%5D%2C%20%5B40.772467999999996%2C%20-73.980851%5D%2C%20%5B40.765465%2C%20-73.95769399999999%5D%2C%20%5B40.763379%2C%20-73.979001%5D%2C%20%5B40.713297999999995%2C%20-74.007773%5D%2C%20%5B40.759648999999996%2C%20-73.965058%5D%2C%20%5B40.755327%2C%20-73.971106%5D%2C%20%5B40.82075%2C%20-73.917653%5D%2C%20%5B40.67521%2C%20-73.87320799999999%5D%2C%20%5B40.690833000000005%2C%20-73.983452%5D%2C%20%5B40.762962%2C%20-73.976077%5D%2C%20%5B40.759828999999996%2C%20-73.991626%5D%2C%20%5B40.759828999999996%2C%20-73.991626%5D%2C%20%5B40.714851%2C%20-73.998207%5D%2C%20%5B40.724373%2C%20-73.99986700000001%5D%2C%20%5B40.780893%2C%20-73.97626600000001%5D%2C%20%5B40.689458%2C%20-73.96895%5D%2C%20%5B40.749894%2C%20-73.862397%5D%2C%20%5B40.63646%2C%20-74.008572%5D%2C%20%5B40.783424%2C%20-73.950634%5D%2C%20%5B40.742798%2C%20-73.915631%5D%2C%20%5B40.758873%2C%20-73.830127%5D%2C%20%5B40.617825%2C%20-73.961642%5D%2C%20%5B40.702461%2C%20-73.987492%5D%2C%20%5B40.749527%2C%20-73.883313%5D%2C%20%5B40.703056%2C%20-73.98758199999999%5D%2C%20%5B40.703056%2C%20-73.98758199999999%5D%2C%20%5B40.703056%2C%20-73.98758199999999%5D%2C%20%5B40.703056%2C%20-73.98758199999999%5D%2C%20%5B40.604286%2C%20-73.99773499999999%5D%2C%20%5B40.745371%2C%20-73.90724399999999%5D%2C%20%5B40.605263%2C%20-73.999363%5D%2C%20%5B40.650256%2C%20-74.00865300000001%5D%2C%20%5B40.867566%2C%20-73.92159699999999%5D%2C%20%5B40.784875%2C%20-73.97334000000001%5D%2C%20%5B40.707753000000004%2C%20-74.006918%5D%2C%20%5B40.782137%2C%20-73.98092%5D%2C%20%5B40.650721000000004%2C%20-73.93025899999999%5D%2C%20%5B40.721441%2C%20-73.99505%5D%2C%20%5B40.702925%2C%20-73.920579%5D%2C%20%5B40.613298%2C%20-74.158474%5D%2C%20%5B40.739973%2C%20-73.984414%5D%2C%20%5B40.774512%2C%20-73.959209%5D%2C%20%5B40.780284%2C%20-73.980401%5D%2C%20%5B40.805496999999995%2C%20-73.965721%5D%2C%20%5B40.780284%2C%20-73.980401%5D%2C%20%5B40.767029%2C%20-73.956574%5D%2C%20%5B40.758307%2C%20-73.804276%5D%2C%20%5B40.718509000000005%2C%20-73.988085%5D%2C%20%5B40.758307%2C%20-73.804276%5D%2C%20%5B40.715309000000005%2C%20-74.00875500000001%5D%2C%20%5B40.764155%2C%20-73.973951%5D%2C%20%5B40.625663%2C%20-74.024212%5D%2C%20%5B40.76166%2C%20-73.963584%5D%2C%20%5B40.763607%2C%20-73.967551%5D%2C%20%5B40.763607%2C%20-73.967551%5D%2C%20%5B40.700703999999995%2C%20-73.988463%5D%2C%20%5B40.68886%2C%20-73.983734%5D%2C%20%5B40.769304999999996%2C%20-73.95800600000001%5D%2C%20%5B40.690047%2C%20-73.992182%5D%2C%20%5B40.708206%2C%20-73.919855%5D%2C%20%5B40.708206%2C%20-73.919855%5D%2C%20%5B40.715871%2C%20-73.95904300000001%5D%2C%20%5B40.729704%2C%20-73.959521%5D%2C%20%5B40.753847%2C%20-73.96800999999999%5D%2C%20%5B40.791559%2C%20-73.974027%5D%2C%20%5B40.72703%2C%20-74.001919%5D%2C%20%5B40.764305%2C%20-73.98309499999999%5D%2C%20%5B40.791559%2C%20-73.974027%5D%2C%20%5B40.794171%2C%20-73.970674%5D%2C%20%5B40.626836%2C%20-74.127013%5D%2C%20%5B40.727292%2C%20-73.984551%5D%2C%20%5B40.837292%2C%20-73.8474%5D%2C%20%5B40.753429%2C%20-73.937811%5D%2C%20%5B40.622596%2C%20-74.028036%5D%2C%20%5B40.687628000000004%2C%20-73.989868%5D%2C%20%5B40.640981%2C%20-74.003866%5D%2C%20%5B40.650424%2C%20-73.957825%5D%2C%20%5B40.783564%2C%20-73.978009%5D%2C%20%5B40.828786%2C%20-73.877169%5D%2C%20%5B40.624052%2C%20-73.965046%5D%2C%20%5B40.714220000000005%2C%20-74.00974699999999%5D%2C%20%5B40.708143%2C%20-74.00187199999999%5D%2C%20%5B40.729865999999994%2C%20-73.98074%5D%2C%20%5B40.729865999999994%2C%20-73.98074%5D%2C%20%5B40.727087%2C%20-73.987812%5D%2C%20%5B40.809433%2C%20-73.944261%5D%2C%20%5B40.764941%2C%20-73.917241%5D%2C%20%5B40.637375%2C%20-73.928857%5D%2C%20%5B40.724897999999996%2C%20-73.82091199999999%5D%2C%20%5B40.747463%2C%20-73.88565200000001%5D%2C%20%5B40.760667%2C%20-73.833483%5D%2C%20%5B40.705729%2C%20-73.922538%5D%2C%20%5B40.757841%2C%20-73.83028399999999%5D%2C%20%5B40.735602%2C%20-74.00052%5D%2C%20%5B40.757863%2C%20-73.9834%5D%2C%20%5B40.616969%2C%20-73.98538%5D%2C%20%5B40.852788000000004%2C%20-73.842658%5D%2C%20%5B40.760690999999994%2C%20-73.97261999999999%5D%2C%20%5B40.700915%2C%20-73.941153%5D%2C%20%5B40.734009%2C%20-73.992708%5D%2C%20%5B40.702763%2C%20-73.986681%5D%2C%20%5B40.734009%2C%20-73.992708%5D%2C%20%5B40.752577%2C%20-73.987378%5D%2C%20%5B40.755352%2C%20-73.98373199999999%5D%2C%20%5B40.746077%2C%20-73.98209200000001%5D%2C%20%5B40.744821%2C%20-73.988805%5D%2C%20%5B40.721353%2C%20-74.009928%5D%2C%20%5B40.721353%2C%20-74.009928%5D%2C%20%5B40.721359%2C%20-73.99715400000001%5D%2C%20%5B40.754538000000004%2C%20-73.977398%5D%2C%20%5B40.721348%2C%20-73.994823%5D%2C%20%5B40.719689%2C%20-73.959203%5D%2C%20%5B40.762253%2C%20-73.815155%5D%2C%20%5B40.80725%2C%20-73.964466%5D%2C%20%5B40.738269%2C%20-73.99126%5D%2C%20%5B40.730087%2C%20-74.002349%5D%2C%20%5B40.705749%2C%20-74.008342%5D%2C%20%5B40.740598999999996%2C%20-73.987359%5D%2C%20%5B40.739409%2C%20-74.005839%5D%2C%20%5B40.777851%2C%20-73.954708%5D%2C%20%5B40.729972%2C%20-73.99219599999999%5D%2C%20%5B40.726535%2C%20-73.991734%5D%2C%20%5B40.759462%2C%20-73.96519599999999%5D%2C%20%5B40.726535%2C%20-73.991734%5D%2C%20%5B40.830872%2C%20-73.826387%5D%2C%20%5B40.632428000000004%2C%20-73.94765500000001%5D%2C%20%5B40.691288%2C%20-73.86733199999999%5D%2C%20%5B40.739090000000004%2C%20-73.999307%5D%2C%20%5B40.737624%2C%20-73.991491%5D%2C%20%5B40.714851%2C%20-73.998207%5D%2C%20%5B40.714851%2C%20-73.998207%5D%2C%20%5B40.738475%2C%20-73.99353%5D%2C%20%5B40.714521999999995%2C%20-73.965049%5D%2C%20%5B40.80012%2C%20-73.96593299999999%5D%2C%20%5B40.760686%2C%20-73.83342900000001%5D%2C%20%5B40.72684%2C%20-73.994512%5D%2C%20%5B40.72684%2C%20-73.994512%5D%2C%20%5B40.855337%2C%20-73.901289%5D%2C%20%5B40.714878999999996%2C%20-73.998261%5D%2C%20%5B40.659579%2C%20-73.960555%5D%2C%20%5B40.767268%2C%20-73.917488%5D%2C%20%5B40.851202%2C%20-73.939285%5D%2C%20%5B40.775589000000004%2C%20-73.953424%5D%2C%20%5B40.851287%2C%20-73.939635%5D%2C%20%5B40.731504%2C%20-74.00317199999999%5D%2C%20%5B40.720537%2C%20-73.732109%5D%2C%20%5B40.700033000000005%2C%20-73.929303%5D%2C%20%5B40.693714%2C%20-73.963362%5D%2C%20%5B40.729146%2C%20-74.005246%5D%2C%20%5B40.762599%2C%20-73.989589%5D%2C%20%5B40.652125%2C%20-73.949704%5D%2C%20%5B40.719904%2C%20-74.00030699999999%5D%2C%20%5B40.736365%2C%20-74.005871%5D%2C%20%5B40.774949%2C%20-73.980861%5D%2C%20%5B40.728559000000004%2C%20-73.99457%5D%2C%20%5B40.759623%2C%20-73.927121%5D%2C%20%5B40.599614%2C%20-73.990018%5D%2C%20%5B40.851282%2C%20-73.939596%5D%2C%20%5B40.717481%2C%20-73.997338%5D%2C%20%5B40.851282%2C%20-73.939596%5D%2C%20%5B40.841654999999996%2C%20-73.916662%5D%2C%20%5B40.61826%2C%20-73.957842%5D%2C%20%5B40.603896%2C%20-73.99709%5D%2C%20%5B40.726535%2C%20-73.991734%5D%2C%20%5B40.616269%2C%20-73.98543000000001%5D%2C%20%5B40.841614%2C%20-73.916691%5D%2C%20%5B40.678185%2C%20-73.958352%5D%2C%20%5B40.540539%2C%20-74.17705699999999%5D%2C%20%5B40.737553000000005%2C%20-74.004009%5D%2C%20%5B40.725522999999995%2C%20-73.79256%5D%2C%20%5B40.833724%2C%20-73.945115%5D%2C%20%5B40.749076%2C%20-73.97568199999999%5D%2C%20%5B40.750539%2C%20-73.87671%5D%2C%20%5B40.745713%2C%20-73.988639%5D%2C%20%5B40.721348%2C%20-73.994823%5D%2C%20%5B40.677237%2C%20-73.998356%5D%2C%20%5B40.771832%2C%20-73.95616700000001%5D%2C%20%5B40.748409%2C%20-73.974773%5D%2C%20%5B40.757809%2C%20-73.86170200000001%5D%2C%20%5B40.72733%2C%20-73.97958299999999%5D%2C%20%5B40.845096999999996%2C%20-73.866765%5D%2C%20%5B40.760725%2C%20-73.83332%5D%2C%20%5B40.845096999999996%2C%20-73.866765%5D%2C%20%5B40.845096999999996%2C%20-73.866765%5D%2C%20%5B40.685181%2C%20-73.929491%5D%2C%20%5B40.748051000000004%2C%20-73.868768%5D%2C%20%5B40.680531%2C%20-73.974575%5D%2C%20%5B40.710255%2C%20-74.016325%5D%2C%20%5B40.748296%2C%20-73.988465%5D%2C%20%5B40.747278%2C%20-73.88740200000001%5D%2C%20%5B40.747278%2C%20-73.88740200000001%5D%2C%20%5B40.75517%2C%20-73.968324%5D%2C%20%5B40.606204999999996%2C%20-73.965438%5D%2C%20%5B40.737553000000005%2C%20-74.004009%5D%2C%20%5B40.729156%2C%20-73.988956%5D%2C%20%5B40.729118%2C%20-73.988869%5D%2C%20%5B40.886057%2C%20-73.907001%5D%2C%20%5B40.726384%2C%20-73.989295%5D%2C%20%5B40.705764%2C%20-73.924821%5D%2C%20%5B40.74515%2C%20-73.988383%5D%2C%20%5B40.711537%2C%20-74.01567299999999%5D%2C%20%5B40.770037%2C%20-73.73602199999999%5D%2C%20%5B40.689505%2C%20-73.97028399999999%5D%2C%20%5B40.749076%2C%20-73.97568199999999%5D%2C%20%5B40.759919000000004%2C%20-73.98634799999999%5D%2C%20%5B40.764964%2C%20-73.771716%5D%2C%20%5B40.725837%2C%20-73.79157099999999%5D%2C%20%5B40.675237%2C%20-73.98125%5D%2C%20%5B40.718908%2C%20-73.996053%5D%2C%20%5B40.770272%2C%20-73.91883100000001%5D%2C%20%5B40.618408%2C%20-74.009412%5D%2C%20%5B40.716815000000004%2C%20-73.958833%5D%2C%20%5B40.716815000000004%2C%20-73.958833%5D%2C%20%5B40.755709%2C%20-73.987208%5D%2C%20%5B40.759341%2C%20-73.991954%5D%2C%20%5B40.727816%2C%20-73.979225%5D%2C%20%5B40.729192%2C%20-73.989042%5D%2C%20%5B40.717853999999996%2C%20-74.000794%5D%2C%20%5B40.739477%2C%20-73.999022%5D%2C%20%5B40.763513%2C%20-73.90950699999999%5D%2C%20%5B40.764407%2C%20-73.987275%5D%2C%20%5B40.814318%2C%20-73.944409%5D%2C%20%5B40.761812%2C%20-73.826365%5D%2C%20%5B40.708418%2C%20-74.001591%5D%2C%20%5B40.575922%2C%20-74.169793%5D%2C%20%5B40.804505%2C%20-73.95559300000001%5D%2C%20%5B40.684327%2C%20-73.869787%5D%2C%20%5B40.814738%2C%20-73.944126%5D%2C%20%5B40.748540999999996%2C%20-73.869846%5D%2C%20%5B40.738258%2C%20-73.989456%5D%2C%20%5B40.610909%2C%20-73.962561%5D%2C%20%5B40.730059999999995%2C%20-74.000451%5D%2C%20%5B40.7263%2C%20-74.001941%5D%2C%20%5B40.821304999999995%2C%20-73.954201%5D%2C%20%5B40.766335999999995%2C%20-73.921853%5D%2C%20%5B40.703691%2C%20-73.928026%5D%2C%20%5B40.758679%2C%20-73.829066%5D%2C%20%5B40.692572999999996%2C%20-73.910826%5D%2C%20%5B40.636562%2C%20-74.011342%5D%2C%20%5B40.830409%2C%20-73.947535%5D%2C%20%5B40.654982000000004%2C%20-73.83885%5D%2C%20%5B40.75887%2C%20-73.83013000000001%5D%2C%20%5B40.746056%2C%20-73.889981%5D%2C%20%5B40.735378999999995%2C%20-74.001635%5D%2C%20%5B40.760851%2C%20-73.765438%5D%2C%20%5B40.75649%2C%20-73.966489%5D%2C%20%5B40.744352%2C%20-74.002876%5D%2C%20%5B40.755390000000006%2C%20-73.969756%5D%2C%20%5B40.753803000000005%2C%20-73.914703%5D%2C%20%5B40.723437%2C%20-73.997341%5D%2C%20%5B40.723859999999995%2C%20-73.998092%5D%2C%20%5B40.76076%2C%20-73.832952%5D%2C%20%5B40.734185%2C%20-73.997258%5D%2C%20%5B40.736402000000005%2C%20-73.87812199999999%5D%2C%20%5B40.756589%2C%20-73.968716%5D%2C%20%5B40.745823%2C%20-73.82602800000001%5D%2C%20%5B40.80012%2C%20-73.96593299999999%5D%2C%20%5B40.638788%2C%20-74.00612199999999%5D%2C%20%5B40.763215%2C%20-73.814225%5D%2C%20%5B40.784216%2C%20-73.97381700000001%5D%2C%20%5B40.751649%2C%20-73.970863%5D%2C%20%5B40.699042999999996%2C%20-73.926815%5D%2C%20%5B40.729909%2C%20-73.99908%5D%2C%20%5B40.754599%2C%20-73.894439%5D%2C%20%5B40.778917%2C%20-73.977707%5D%2C%20%5B40.702834%2C%20-73.98961700000001%5D%2C%20%5B40.754508%2C%20-73.975951%5D%2C%20%5B40.736321000000004%2C%20-74.00094200000001%5D%2C%20%5B40.731119%2C%20-73.993635%5D%2C%20%5B40.731119%2C%20-73.993635%5D%2C%20%5B40.764201%2C%20-73.915672%5D%2C%20%5B40.714862%2C%20-73.998186%5D%2C%20%5B40.738258%2C%20-73.989456%5D%2C%20%5B40.776759999999996%2C%20-73.95257099999999%5D%2C%20%5B40.682567%2C%20-73.943152%5D%2C%20%5B40.765002%2C%20-73.982867%5D%2C%20%5B40.775058%2C%20-73.956717%5D%2C%20%5B40.755520000000004%2C%20-73.814983%5D%2C%20%5B40.750121%2C%20-73.8186%5D%2C%20%5B40.71891%2C%20-73.987078%5D%2C%20%5B40.718705%2C%20-73.997619%5D%2C%20%5B40.690562%2C%20-73.96933100000001%5D%2C%20%5B40.806653999999995%2C%20-73.961161%5D%2C%20%5B40.747737%2C%20-73.89161700000001%5D%2C%20%5B40.764146999999994%2C%20-73.882056%5D%2C%20%5B40.777788%2C%20-73.94872099999999%5D%2C%20%5B40.645905%2C%20-73.912787%5D%2C%20%5B40.758831%2C%20-73.831823%5D%2C%20%5B40.750121%2C%20-73.8186%5D%2C%20%5B40.716912%2C%20-73.943061%5D%2C%20%5B40.672123%2C%20-73.98725300000001%5D%2C%20%5B40.75942%2C%20-73.991922%5D%2C%20%5B40.632642%2C%20-74.004813%5D%2C%20%5B40.741884000000006%2C%20-73.990394%5D%2C%20%5B40.639497999999996%2C%20-73.954661%5D%2C%20%5B40.752386%2C%20-73.974241%5D%2C%20%5B40.747002%2C%20-73.985596%5D%2C%20%5B40.592799%2C%20-73.988377%5D%2C%20%5B40.799043%2C%20-73.94259%5D%2C%20%5B40.701128000000004%2C%20-73.913981%5D%2C%20%5B40.715153%2C%20-73.997168%5D%2C%20%5B40.80242%2C%20-73.950602%5D%2C%20%5B40.718491%2C%20-73.963698%5D%2C%20%5B40.75663%2C%20-73.980426%5D%2C%20%5B40.727188%2C%20-73.98557199999999%5D%2C%20%5B40.80242%2C%20-73.950602%5D%2C%20%5B40.784234000000005%2C%20-73.977521%5D%2C%20%5B40.746899%2C%20-73.896426%5D%2C%20%5B40.703553%2C%20-73.96045699999999%5D%2C%20%5B40.720465999999995%2C%20-73.984365%5D%2C%20%5B40.750844%2C%20-73.819374%5D%2C%20%5B40.650541%2C%20-73.948549%5D%2C%20%5B40.709831%2C%20-74.012%5D%2C%20%5B40.687466%2C%20-73.98623%5D%2C%20%5B40.720052%2C%20-74.008575%5D%2C%20%5B40.730861%2C%20-74.001537%5D%2C%20%5B40.750046999999995%2C%20-73.81851999999999%5D%2C%20%5B40.767542%2C%20-73.912014%5D%2C%20%5B40.754694%2C%20-73.89353%5D%2C%20%5B40.718058%2C%20-73.957472%5D%2C%20%5B40.721782%2C%20-73.99759%5D%2C%20%5B40.643814%2C%20-74.00089399999999%5D%2C%20%5B40.739945%2C%20-73.788961%5D%2C%20%5B40.739945%2C%20-73.788961%5D%2C%20%5B40.744549%2C%20-73.915376%5D%2C%20%5B40.810351000000004%2C%20-73.947305%5D%2C%20%5B40.759195%2C%20-73.992062%5D%2C%20%5B40.770528999999996%2C%20-73.951077%5D%2C%20%5B40.770528999999996%2C%20-73.951077%5D%2C%20%5B40.706553%2C%20-74.011033%5D%2C%20%5B40.743777%2C%20-73.985171%5D%2C%20%5B40.699469%2C%20-73.911762%5D%2C%20%5B40.746021%2C%20-73.896275%5D%2C%20%5B40.71921%2C%20-73.99699100000001%5D%2C%20%5B40.742007%2C%20-73.91892299999999%5D%2C%20%5B40.687234000000004%2C%20-73.9569%5D%2C%20%5B40.807307%2C%20-73.927162%5D%2C%20%5B40.747278%2C%20-73.88740200000001%5D%2C%20%5B40.664838%2C%20-73.937043%5D%2C%20%5B40.706682%2C%20-73.92302%5D%2C%20%5B40.717721999999995%2C%20-73.962014%5D%2C%20%5B40.760535%2C%20-73.991109%5D%2C%20%5B40.760535%2C%20-73.991109%5D%2C%20%5B40.731413%2C%20-74.003121%5D%2C%20%5B40.702496999999994%2C%20-73.92885600000001%5D%2C%20%5B40.704114000000004%2C%20-73.933904%5D%2C%20%5B40.758855%2C%20-73.96424300000001%5D%2C%20%5B40.807367%2C%20-73.927094%5D%2C%20%5B40.807367%2C%20-73.927094%5D%2C%20%5B40.72483%2C%20-73.981377%5D%2C%20%5B40.729939%2C%20-74.00366600000001%5D%2C%20%5B40.7133%2C%20-73.912375%5D%2C%20%5B40.717769%2C%20-73.995184%5D%2C%20%5B40.762786%2C%20-73.80524100000001%5D%2C%20%5B40.677407%2C%20-73.955526%5D%2C%20%5B40.677546%2C%20-73.98294%5D%2C%20%5B40.765735%2C%20-73.983603%5D%2C%20%5B40.817161999999996%2C%20-73.921851%5D%2C%20%5B40.816399%2C%20-73.917029%5D%2C%20%5B40.747278%2C%20-73.88740200000001%5D%2C%20%5B40.732721999999995%2C%20-73.999664%5D%2C%20%5B40.77668%2C%20-73.951044%5D%2C%20%5B40.718211%2C%20-73.943536%5D%2C%20%5B40.724526000000004%2C%20-73.954538%5D%2C%20%5B40.762736%2C%20-73.975489%5D%2C%20%5B40.747826%2C%20-73.987101%5D%2C%20%5B40.779334000000006%2C%20-73.95067%5D%2C%20%5B40.742421%2C%20-73.72179399999999%5D%2C%20%5B40.742421%2C%20-73.72179399999999%5D%2C%20%5B40.850122%2C%20-73.915968%5D%2C%20%5B40.743466%2C%20-73.921274%5D%2C%20%5B40.687793%2C%20-73.98976%5D%2C%20%5B40.733241%2C%20-73.993148%5D%2C%20%5B40.74773%2C%20-73.986878%5D%2C%20%5B40.679341%2C%20-73.886573%5D%2C%20%5B40.746978999999996%2C%20-73.890243%5D%2C%20%5B40.728778000000005%2C%20-74.001533%5D%2C%20%5B40.727897%2C%20-73.988191%5D%2C%20%5B40.60648%2C%20-73.965704%5D%2C%20%5B40.60648%2C%20-73.965704%5D%2C%20%5B40.775294%2C%20-73.909498%5D%2C%20%5B40.774793%2C%20-73.908788%5D%2C%20%5B40.750040999999996%2C%20-73.98435400000001%5D%2C%20%5B40.691962%2C%20-73.94274%5D%2C%20%5B40.747868%2C%20-74.000339%5D%2C%20%5B40.774784999999994%2C%20-73.908777%5D%2C%20%5B40.745405%2C%20-73.984662%5D%2C%20%5B40.750733000000004%2C%20-73.986%5D%2C%20%5B40.743794%2C%20-73.985168%5D%2C%20%5B40.64123%2C%20-73.983241%5D%2C%20%5B40.743783%2C%20-73.985139%5D%2C%20%5B40.61826%2C%20-73.957842%5D%2C%20%5B40.773573999999996%2C%20-73.983511%5D%2C%20%5B40.805121%2C%20-73.96601700000001%5D%2C%20%5B40.681914%2C%20-74.000465%5D%2C%20%5B40.747324%2C%20-73.88386899999999%5D%2C%20%5B40.716334%2C%20-73.965983%5D%2C%20%5B40.774736%2C%20-73.908741%5D%2C%20%5B40.797697%2C%20-73.969546%5D%2C%20%5B40.797697%2C%20-73.969546%5D%2C%20%5B40.680581%2C%20-73.952704%5D%2C%20%5B40.805496000000005%2C%20-73.96394699999999%5D%2C%20%5B40.782990999999996%2C%20-73.84585600000001%5D%2C%20%5B40.759326%2C%20-73.768819%5D%2C%20%5B40.704753000000004%2C%20-73.924479%5D%2C%20%5B40.753059%2C%20-73.865188%5D%2C%20%5B40.774741%2C%20-73.90871899999999%5D%2C%20%5B40.582865000000005%2C%20-73.955466%5D%2C%20%5B40.775285%2C%20-73.90951700000001%5D%2C%20%5B40.775285%2C%20-73.90951700000001%5D%2C%20%5B40.649177%2C%20-73.963722%5D%2C%20%5B40.808471999999995%2C%20-73.928996%5D%2C%20%5B40.746342%2C%20-73.896174%5D%2C%20%5B40.738585%2C%20-74.00363%5D%2C%20%5B40.775296000000004%2C%20-73.909502%5D%2C%20%5B40.760073%2C%20-73.832571%5D%2C%20%5B40.760073%2C%20-73.832571%5D%2C%20%5B40.718021%2C%20-73.989419%5D%2C%20%5B40.737053%2C%20-73.98445500000001%5D%2C%20%5B40.838731%2C%20-73.941475%5D%2C%20%5B40.680309%2C%20-73.967923%5D%2C%20%5B40.763315000000006%2C%20-73.928196%5D%2C%20%5B40.749524%2C%20-73.883313%5D%2C%20%5B40.765831%2C%20-73.81085300000001%5D%2C%20%5B40.832488%2C%20-73.82777800000001%5D%2C%20%5B40.64089%2C%20-73.94927%5D%2C%20%5B40.794292%2C%20-73.942706%5D%2C%20%5B40.803090000000005%2C%20-73.966025%5D%2C%20%5B40.702477%2C%20-73.895175%5D%2C%20%5B40.67013%2C%20-73.985519%5D%2C%20%5B40.70033%2C%20-73.90442900000001%5D%2C%20%5B40.782988%2C%20-73.84585600000001%5D%2C%20%5B40.795548%2C%20-73.96929399999999%5D%2C%20%5B40.711419%2C%20-73.946345%5D%2C%20%5B40.728347%2C%20-74.00534300000001%5D%2C%20%5B40.761990999999995%2C%20-73.802937%5D%2C%20%5B40.654358%2C%20-73.959592%5D%2C%20%5B40.902346%2C%20-73.851309%5D%2C%20%5B40.865028%2C%20-73.92695400000001%5D%2C%20%5B40.841082%2C%20-73.843314%5D%2C%20%5B40.669407%2C%20-73.9795%5D%2C%20%5B40.747793%2C%20-73.987029%5D%2C%20%5B40.746843%2C%20-73.984741%5D%2C%20%5B40.637687%2C%20-73.989335%5D%2C%20%5B40.732473999999996%2C%20-73.82481800000001%5D%2C%20%5B40.655509%2C%20-73.916765%5D%2C%20%5B40.747017%2C%20-73.988975%5D%2C%20%5B40.716409999999996%2C%20-73.992623%5D%2C%20%5B40.724457%2C%20-73.983462%5D%2C%20%5B40.750919%2C%20-73.889255%5D%2C%20%5B40.747558000000005%2C%20-73.88471700000001%5D%2C%20%5B40.742883%2C%20-73.990686%5D%2C%20%5B40.764201%2C%20-73.91566800000001%5D%2C%20%5B40.75076%2C%20-73.986108%5D%2C%20%5B40.723763%2C%20-74.003821%5D%2C%20%5B40.804990999999994%2C%20-73.954939%5D%2C%20%5B40.733178%2C%20-73.998549%5D%2C%20%5B40.718951000000004%2C%20-73.984607%5D%2C%20%5B40.705552000000004%2C%20-73.896479%5D%2C%20%5B40.619601%2C%20-74.027826%5D%2C%20%5B40.705552000000004%2C%20-73.896479%5D%2C%20%5B40.818836%2C%20-73.903225%5D%2C%20%5B40.776720000000005%2C%20-73.911551%5D%2C%20%5B40.77082%2C%20-73.920924%5D%2C%20%5B40.745961%2C%20-73.956823%5D%2C%20%5B40.665597999999996%2C%20-73.982647%5D%2C%20%5B40.824867%2C%20-73.94675600000001%5D%2C%20%5B40.763469%2C%20-73.973615%5D%2C%20%5B40.679004%2C%20-73.98744599999999%5D%2C%20%5B40.761247%2C%20-73.960791%5D%2C%20%5B40.718117%2C%20-73.991973%5D%2C%20%5B40.749903%2C%20-73.98406899999999%5D%2C%20%5B40.749883000000004%2C%20-73.903224%5D%2C%20%5B40.670152%2C%20-73.98479499999999%5D%2C%20%5B40.725978000000005%2C%20-73.994603%5D%2C%20%5B40.665101%2C%20-73.735753%5D%2C%20%5B40.665101%2C%20-73.735753%5D%2C%20%5B40.817268%2C%20-73.942257%5D%2C%20%5B40.901418%2C%20-73.84689399999999%5D%2C%20%5B40.681179%2C%20-73.975378%5D%2C%20%5B40.71685%2C%20-73.99975500000001%5D%2C%20%5B40.763034000000005%2C%20-73.81411700000001%5D%2C%20%5B40.747826%2C%20-73.987101%5D%2C%20%5B40.666256%2C%20-73.97879%5D%2C%20%5B40.754576%2C%20-73.989363%5D%2C%20%5B40.753167%2C%20-73.987981%5D%2C%20%5B40.772422%2C%20-73.955708%5D%2C%20%5B40.70732%2C%20-74.002521%5D%2C%20%5B40.678674%2C%20-73.968486%5D%2C%20%5B40.656874%2C%20-74.00174100000001%5D%2C%20%5B40.85505%2C%20-73.887979%5D%2C%20%5B40.743590000000005%2C%20-73.958535%5D%2C%20%5B40.752101%2C%20-73.979416%5D%2C%20%5B40.760146%2C%20-73.877436%5D%2C%20%5B40.772445000000005%2C%20-73.920629%5D%2C%20%5B40.716328000000004%2C%20-74.000047%5D%2C%20%5B40.703835%2C%20-73.930972%5D%2C%20%5B40.758477%2C%20-73.829611%5D%2C%20%5B40.733697%2C%20-74.002353%5D%2C%20%5B40.729233%2C%20-73.953828%5D%2C%20%5B40.628820000000005%2C%20-74.074318%5D%2C%20%5B40.666444%2C%20-73.988566%5D%2C%20%5B40.763326%2C%20-73.97369499999999%5D%2C%20%5B40.747411%2C%20-73.941588%5D%2C%20%5B40.675346999999995%2C%20-73.966865%5D%2C%20%5B40.807891999999995%2C%20-73.91903%5D%2C%20%5B40.807891999999995%2C%20-73.91903%5D%2C%20%5B40.729939%2C%20-74.00366600000001%5D%2C%20%5B40.792807%2C%20-73.971289%5D%2C%20%5B40.862697999999995%2C%20-73.89554%5D%2C%20%5B40.732549%2C%20-73.997074%5D%2C%20%5B40.753439%2C%20-73.987151%5D%2C%20%5B40.726659000000005%2C%20-73.991713%5D%2C%20%5B40.692028%2C%20-73.991241%5D%2C%20%5B40.729099%2C%20-74.000191%5D%2C%20%5B40.805817%2C%20-73.954335%5D%2C%20%5B40.739801%2C%20-73.99304599999999%5D%2C%20%5B40.731237%2C%20-73.988688%5D%2C%20%5B40.638771999999996%2C%20-74.006136%5D%2C%20%5B40.765258%2C%20-73.806162%5D%2C%20%5B40.630831%2C%20-74.103542%5D%2C%20%5B40.719369%2C%20-73.993218%5D%2C%20%5B40.760565%2C%20-73.989774%5D%2C%20%5B40.725281%2C%20-74.00346%5D%2C%20%5B40.718941%2C%20-74.006522%5D%2C%20%5B40.702763%2C%20-73.986681%5D%2C%20%5B40.80428%2C%20-73.955484%5D%2C%20%5B40.742004%2C%20-73.91892299999999%5D%2C%20%5B40.616963%2C%20-73.985416%5D%2C%20%5B40.725209%2C%20-73.946474%5D%2C%20%5B40.757905%2C%20-73.78492299999999%5D%2C%20%5B40.747634000000005%2C%20-73.990443%5D%2C%20%5B40.755056%2C%20-73.98859399999999%5D%2C%20%5B40.806549%2C%20-73.953825%5D%2C%20%5B40.720739%2C%20-74.00044399999999%5D%2C%20%5B40.743248%2C%20-73.99359100000001%5D%2C%20%5B40.623259000000004%2C%20-74.031153%5D%2C%20%5B40.729997%2C%20-74.00348199999999%5D%2C%20%5B40.694447%2C%20-73.801986%5D%2C%20%5B40.678902%2C%20-73.986898%5D%2C%20%5B40.803649%2C%20-73.955922%5D%2C%20%5B40.729779%2C%20-73.983688%5D%2C%20%5B40.804524%2C%20-73.955304%5D%2C%20%5B40.826162%2C%20-73.938794%5D%2C%20%5B40.803202%2C%20-73.956544%5D%2C%20%5B40.826162%2C%20-73.938794%5D%2C%20%5B40.669179%2C%20-73.979687%5D%2C%20%5B40.635604%2C%20-73.963192%5D%2C%20%5B40.767558%2C%20-73.91199999999999%5D%2C%20%5B40.717914%2C%20-73.999095%5D%2C%20%5B40.666831%2C%20-73.99167%5D%2C%20%5B40.772689%2C%20-73.96544899999999%5D%2C%20%5B40.603918%2C%20-73.997126%5D%2C%20%5B40.709241%2C%20-74.008%5D%2C%20%5B40.767532%2C%20-73.920877%5D%2C%20%5B40.779086%2C%20-73.953808%5D%2C%20%5B40.714771999999996%2C%20-73.993716%5D%2C%20%5B40.855128%2C%20-73.88674300000001%5D%2C%20%5B40.714058%2C%20-74.007719%5D%2C%20%5B40.714931%2C%20-73.993633%5D%2C%20%5B40.757552000000004%2C%20-73.77946999999999%5D%2C%20%5B40.680738%2C%20-73.763723%5D%2C%20%5B40.764964%2C%20-73.771716%5D%2C%20%5B40.60537%2C%20-73.999546%5D%2C%20%5B40.72583%2C%20-74.001851%5D%2C%20%5B40.831317999999996%2C%20-73.85090799999999%5D%2C%20%5B40.735065999999996%2C%20-73.993512%5D%2C%20%5B40.748971999999995%2C%20-73.891583%5D%2C%20%5B40.730238%2C%20-74.002432%5D%2C%20%5B40.735679%2C%20-74.000563%5D%2C%20%5B40.735679%2C%20-74.000563%5D%2C%20%5B40.752328000000006%2C%20-73.973324%5D%2C%20%5B40.711414000000005%2C%20-74.01586%5D%2C%20%5B40.732415%2C%20-73.99624399999999%5D%2C%20%5B40.577633%2C%20-73.961294%5D%2C%20%5B40.765298%2C%20-73.81584699999999%5D%2C%20%5B40.735679%2C%20-74.000563%5D%2C%20%5B40.854553%2C%20-73.938053%5D%2C%20%5B40.718013%2C%20-73.840772%5D%2C%20%5B40.575552%2C%20-73.98014%5D%2C%20%5B40.811118%2C%20-73.95792900000001%5D%2C%20%5B40.810783%2C%20-73.958171%5D%2C%20%5B40.704328000000004%2C%20-74.00923%5D%2C%20%5B40.723354%2C%20-73.99475799999999%5D%2C%20%5B40.748296%2C%20-73.988465%5D%2C%20%5B40.778363%2C%20-73.978112%5D%2C%20%5B40.749324%2C%20-73.984585%5D%2C%20%5B40.59106%2C%20-73.960628%5D%2C%20%5B40.775285%2C%20-73.963736%5D%2C%20%5B40.731193%2C%20-73.954436%5D%2C%20%5B40.776004%2C%20-73.962367%5D%2C%20%5B40.725435%2C%20-73.99212800000001%5D%2C%20%5B40.654856%2C%20-73.95629100000001%5D%2C%20%5B40.71458%2C%20-73.94399%5D%2C%20%5B40.751749%2C%20-73.990057%5D%2C%20%5B40.758953999999996%2C%20-73.974325%5D%2C%20%5B40.710676%2C%20-73.95389499999999%5D%2C%20%5B40.718278999999995%2C%20-73.99189%5D%2C%20%5B40.717845000000004%2C%20-73.98927900000001%5D%2C%20%5B40.76034%2C%20-73.98919599999999%5D%2C%20%5B40.716134999999994%2C%20-73.989467%5D%2C%20%5B40.760757%2C%20-73.83328%5D%2C%20%5B40.747264%2C%20-74.003176%5D%5D%2C%0A%20%20%20%20%20%20%20%20%20%20%20%20%20%20%20%20%7B%22blur%22%3A%2015%2C%20%22maxZoom%22%3A%2018%2C%20%22minOpacity%22%3A%200.5%2C%20%22radius%22%3A%2015%7D%0A%20%20%20%20%20%20%20%20%20%20%20%20%29.addTo%28feature_group_a3c7cf3d013a4a61a02700f7b43a27b2%29%3B%0A%20%20%20%20%20%20%20%20%0A%3C/script%3E onload=\"this.contentDocument.open();this.contentDocument.write(    decodeURIComponent(this.getAttribute('data-html')));this.contentDocument.close();\" allowfullscreen webkitallowfullscreen mozallowfullscreen></iframe></div></div>"
      ],
      "text/plain": [
       "<folium.folium.Map at 0x27ffb467748>"
      ]
     },
     "execution_count": 144,
     "metadata": {},
     "output_type": "execute_result"
    }
   ],
   "source": [
    "map_1"
   ]
  },
  {
   "cell_type": "code",
   "execution_count": 133,
   "id": "35df6b28",
   "metadata": {},
   "outputs": [],
   "source": [
    "map_1.save(\"output/map_1.jpg\", dpi=100)"
   ]
  }
 ],
 "metadata": {
  "kernelspec": {
   "display_name": "ironhackpt",
   "language": "python",
   "name": "ironhackpt"
  },
  "language_info": {
   "codemirror_mode": {
    "name": "ipython",
    "version": 3
   },
   "file_extension": ".py",
   "mimetype": "text/x-python",
   "name": "python",
   "nbconvert_exporter": "python",
   "pygments_lexer": "ipython3",
   "version": "3.6.13"
  }
 },
 "nbformat": 4,
 "nbformat_minor": 5
}
