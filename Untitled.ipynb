{
 "cells": [
  {
   "cell_type": "markdown",
   "id": "93421058",
   "metadata": {},
   "source": [
    "# Enriching NYC Airbnb Dataset"
   ]
  },
  {
   "cell_type": "code",
   "execution_count": 83,
   "id": "ab181d8b",
   "metadata": {},
   "outputs": [
    {
     "name": "stdout",
     "output_type": "stream",
     "text": [
      "Collecting beautifulsoup4\n",
      "  Using cached beautifulsoup4-4.9.3-py3-none-any.whl (115 kB)\n",
      "Collecting soupsieve>1.2\n",
      "  Downloading soupsieve-2.2.1-py3-none-any.whl (33 kB)\n",
      "Installing collected packages: soupsieve, beautifulsoup4\n",
      "Successfully installed beautifulsoup4-4.9.3 soupsieve-2.2.1\n",
      "Note: you may need to restart the kernel to use updated packages.\n"
     ]
    }
   ],
   "source": [
    "pip install beautifulsoup4"
   ]
  },
  {
   "cell_type": "code",
   "execution_count": 103,
   "id": "47b45da3",
   "metadata": {},
   "outputs": [],
   "source": [
    "import numpy as np\n",
    "import pandas as pd\n",
    "import src.clean_utils as cu\n",
    "import requests\n",
    "from bs4 import BeautifulSoup\n",
    "import re"
   ]
  },
  {
   "cell_type": "markdown",
   "id": "c1caf572",
   "metadata": {},
   "source": [
    "## WEB SCRAPING"
   ]
  },
  {
   "cell_type": "code",
   "execution_count": 85,
   "id": "18b4160d",
   "metadata": {},
   "outputs": [],
   "source": [
    "url_NYmonuments = \"https://en.wikipedia.org/wiki/List_of_buildings,_sites,_and_monuments_in_New_York_City\""
   ]
  },
  {
   "cell_type": "code",
   "execution_count": 86,
   "id": "69fc1be1",
   "metadata": {},
   "outputs": [],
   "source": [
    "response = requests.get(url_NYmonuments)"
   ]
  },
  {
   "cell_type": "code",
   "execution_count": 87,
   "id": "5f2becf6",
   "metadata": {},
   "outputs": [
    {
     "data": {
      "text/plain": [
       "<Response [200]>"
      ]
     },
     "execution_count": 87,
     "metadata": {},
     "output_type": "execute_result"
    }
   ],
   "source": [
    "response"
   ]
  },
  {
   "cell_type": "code",
   "execution_count": 88,
   "id": "01a2fe3c",
   "metadata": {},
   "outputs": [],
   "source": [
    "soup = BeautifulSoup(response.content)"
   ]
  },
  {
   "cell_type": "code",
   "execution_count": 89,
   "id": "23515a28",
   "metadata": {},
   "outputs": [],
   "source": [
    "NYmonuments_tags = soup.find_all(\n",
    "    name=\"div\", \n",
    "    class_=\"div-col\"\n",
    ")"
   ]
  },
  {
   "cell_type": "code",
   "execution_count": 90,
   "id": "9b42c50b",
   "metadata": {},
   "outputs": [],
   "source": [
    "NYmonuments_tags_li = soup.find_all(\"li\")"
   ]
  },
  {
   "cell_type": "code",
   "execution_count": 91,
   "id": "f1aeb6f0",
   "metadata": {},
   "outputs": [
    {
     "data": {
      "text/plain": [
       "\"America's Response Monument (Manhattan)\""
      ]
     },
     "execution_count": 91,
     "metadata": {},
     "output_type": "execute_result"
    }
   ],
   "source": [
    "NYmonuments_tags_text_li = [monument.text for monument in NYmonuments_tags_li]\n",
    "NYmonuments_tags_text_li[2]"
   ]
  },
  {
   "cell_type": "code",
   "execution_count": 92,
   "id": "f7ff6fc7",
   "metadata": {},
   "outputs": [
    {
     "data": {
      "text/plain": [
       "307"
      ]
     },
     "execution_count": 92,
     "metadata": {},
     "output_type": "execute_result"
    }
   ],
   "source": [
    "len(NYmonuments_tags_text_li)"
   ]
  },
  {
   "cell_type": "code",
   "execution_count": 93,
   "id": "3c9c062f",
   "metadata": {},
   "outputs": [
    {
     "data": {
      "text/plain": [
       "['American Museum of Natural History (Manhattan)\\nRose Center for Earth and Space',\n",
       " 'Rose Center for Earth and Space',\n",
       " \"America's Response Monument (Manhattan)\",\n",
       " 'Apollo Theater (Manhattan)',\n",
       " 'Bank of America Tower (Manhattan)']"
      ]
     },
     "execution_count": 93,
     "metadata": {},
     "output_type": "execute_result"
    }
   ],
   "source": [
    "NYmonuments_tags_text_li2 = NYmonuments_tags_text_li[0:105]\n",
    "NYmonuments_tags_text_li2[:5]"
   ]
  },
  {
   "cell_type": "code",
   "execution_count": 94,
   "id": "80a6e9ff",
   "metadata": {},
   "outputs": [
    {
     "data": {
      "text/html": [
       "<div>\n",
       "<style scoped>\n",
       "    .dataframe tbody tr th:only-of-type {\n",
       "        vertical-align: middle;\n",
       "    }\n",
       "\n",
       "    .dataframe tbody tr th {\n",
       "        vertical-align: top;\n",
       "    }\n",
       "\n",
       "    .dataframe thead th {\n",
       "        text-align: right;\n",
       "    }\n",
       "</style>\n",
       "<table border=\"1\" class=\"dataframe\">\n",
       "  <thead>\n",
       "    <tr style=\"text-align: right;\">\n",
       "      <th></th>\n",
       "      <th>monuments_neighbourhood</th>\n",
       "    </tr>\n",
       "  </thead>\n",
       "  <tbody>\n",
       "    <tr>\n",
       "      <th>0</th>\n",
       "      <td>American Museum of Natural History (Manhattan)...</td>\n",
       "    </tr>\n",
       "    <tr>\n",
       "      <th>1</th>\n",
       "      <td>Rose Center for Earth and Space</td>\n",
       "    </tr>\n",
       "    <tr>\n",
       "      <th>2</th>\n",
       "      <td>America's Response Monument (Manhattan)</td>\n",
       "    </tr>\n",
       "    <tr>\n",
       "      <th>3</th>\n",
       "      <td>Apollo Theater (Manhattan)</td>\n",
       "    </tr>\n",
       "    <tr>\n",
       "      <th>4</th>\n",
       "      <td>Bank of America Tower (Manhattan)</td>\n",
       "    </tr>\n",
       "    <tr>\n",
       "      <th>...</th>\n",
       "      <td>...</td>\n",
       "    </tr>\n",
       "    <tr>\n",
       "      <th>100</th>\n",
       "      <td>Woodlawn Cemetery (Bronx)</td>\n",
       "    </tr>\n",
       "    <tr>\n",
       "      <th>101</th>\n",
       "      <td>Woolworth Building (Manhattan)</td>\n",
       "    </tr>\n",
       "    <tr>\n",
       "      <th>102</th>\n",
       "      <td>World Trade Center site (Manhattan)</td>\n",
       "    </tr>\n",
       "    <tr>\n",
       "      <th>103</th>\n",
       "      <td>World Financial Center (Manhattan)</td>\n",
       "    </tr>\n",
       "    <tr>\n",
       "      <th>104</th>\n",
       "      <td>Yankee Stadium (Bronx)</td>\n",
       "    </tr>\n",
       "  </tbody>\n",
       "</table>\n",
       "<p>105 rows × 1 columns</p>\n",
       "</div>"
      ],
      "text/plain": [
       "                               monuments_neighbourhood\n",
       "0    American Museum of Natural History (Manhattan)...\n",
       "1                      Rose Center for Earth and Space\n",
       "2              America's Response Monument (Manhattan)\n",
       "3                           Apollo Theater (Manhattan)\n",
       "4                    Bank of America Tower (Manhattan)\n",
       "..                                                 ...\n",
       "100                          Woodlawn Cemetery (Bronx)\n",
       "101                     Woolworth Building (Manhattan)\n",
       "102                World Trade Center site (Manhattan)\n",
       "103                 World Financial Center (Manhattan)\n",
       "104                             Yankee Stadium (Bronx)\n",
       "\n",
       "[105 rows x 1 columns]"
      ]
     },
     "execution_count": 94,
     "metadata": {},
     "output_type": "execute_result"
    }
   ],
   "source": [
    "df_NYmonuments = pd.DataFrame(NYmonuments_tags_text_li2)\n",
    "df_NYmonuments.columns = [\"monuments_neighbourhood\"]\n",
    "df_NYmonuments"
   ]
  },
  {
   "cell_type": "code",
   "execution_count": 95,
   "id": "6a3f8b3c",
   "metadata": {},
   "outputs": [
    {
     "data": {
      "text/html": [
       "<div>\n",
       "<style scoped>\n",
       "    .dataframe tbody tr th:only-of-type {\n",
       "        vertical-align: middle;\n",
       "    }\n",
       "\n",
       "    .dataframe tbody tr th {\n",
       "        vertical-align: top;\n",
       "    }\n",
       "\n",
       "    .dataframe thead th {\n",
       "        text-align: right;\n",
       "    }\n",
       "</style>\n",
       "<table border=\"1\" class=\"dataframe\">\n",
       "  <thead>\n",
       "    <tr style=\"text-align: right;\">\n",
       "      <th></th>\n",
       "      <th>monuments_neighbourhood</th>\n",
       "      <th>monuments</th>\n",
       "      <th>neighbourhood</th>\n",
       "    </tr>\n",
       "  </thead>\n",
       "  <tbody>\n",
       "    <tr>\n",
       "      <th>0</th>\n",
       "      <td>American Museum of Natural History (Manhattan)...</td>\n",
       "      <td>American Museum of Natural History</td>\n",
       "      <td>Manhattan</td>\n",
       "    </tr>\n",
       "    <tr>\n",
       "      <th>1</th>\n",
       "      <td>Rose Center for Earth and Space</td>\n",
       "      <td>Rose Center for Earth and Space</td>\n",
       "      <td>None</td>\n",
       "    </tr>\n",
       "    <tr>\n",
       "      <th>2</th>\n",
       "      <td>America's Response Monument (Manhattan)</td>\n",
       "      <td>America's Response Monument</td>\n",
       "      <td>Manhattan</td>\n",
       "    </tr>\n",
       "    <tr>\n",
       "      <th>3</th>\n",
       "      <td>Apollo Theater (Manhattan)</td>\n",
       "      <td>Apollo Theater</td>\n",
       "      <td>Manhattan</td>\n",
       "    </tr>\n",
       "    <tr>\n",
       "      <th>4</th>\n",
       "      <td>Bank of America Tower (Manhattan)</td>\n",
       "      <td>Bank of America Tower</td>\n",
       "      <td>Manhattan</td>\n",
       "    </tr>\n",
       "    <tr>\n",
       "      <th>...</th>\n",
       "      <td>...</td>\n",
       "      <td>...</td>\n",
       "      <td>...</td>\n",
       "    </tr>\n",
       "    <tr>\n",
       "      <th>100</th>\n",
       "      <td>Woodlawn Cemetery (Bronx)</td>\n",
       "      <td>Woodlawn Cemetery</td>\n",
       "      <td>Bronx</td>\n",
       "    </tr>\n",
       "    <tr>\n",
       "      <th>101</th>\n",
       "      <td>Woolworth Building (Manhattan)</td>\n",
       "      <td>Woolworth Building</td>\n",
       "      <td>Manhattan</td>\n",
       "    </tr>\n",
       "    <tr>\n",
       "      <th>102</th>\n",
       "      <td>World Trade Center site (Manhattan)</td>\n",
       "      <td>World Trade Center site</td>\n",
       "      <td>Manhattan</td>\n",
       "    </tr>\n",
       "    <tr>\n",
       "      <th>103</th>\n",
       "      <td>World Financial Center (Manhattan)</td>\n",
       "      <td>World Financial Center</td>\n",
       "      <td>Manhattan</td>\n",
       "    </tr>\n",
       "    <tr>\n",
       "      <th>104</th>\n",
       "      <td>Yankee Stadium (Bronx)</td>\n",
       "      <td>Yankee Stadium</td>\n",
       "      <td>Bronx</td>\n",
       "    </tr>\n",
       "  </tbody>\n",
       "</table>\n",
       "<p>105 rows × 3 columns</p>\n",
       "</div>"
      ],
      "text/plain": [
       "                               monuments_neighbourhood  \\\n",
       "0    American Museum of Natural History (Manhattan)...   \n",
       "1                      Rose Center for Earth and Space   \n",
       "2              America's Response Monument (Manhattan)   \n",
       "3                           Apollo Theater (Manhattan)   \n",
       "4                    Bank of America Tower (Manhattan)   \n",
       "..                                                 ...   \n",
       "100                          Woodlawn Cemetery (Bronx)   \n",
       "101                     Woolworth Building (Manhattan)   \n",
       "102                World Trade Center site (Manhattan)   \n",
       "103                 World Financial Center (Manhattan)   \n",
       "104                             Yankee Stadium (Bronx)   \n",
       "\n",
       "                               monuments neighbourhood  \n",
       "0    American Museum of Natural History      Manhattan  \n",
       "1        Rose Center for Earth and Space          None  \n",
       "2           America's Response Monument      Manhattan  \n",
       "3                        Apollo Theater      Manhattan  \n",
       "4                 Bank of America Tower      Manhattan  \n",
       "..                                   ...           ...  \n",
       "100                   Woodlawn Cemetery          Bronx  \n",
       "101                  Woolworth Building      Manhattan  \n",
       "102             World Trade Center site      Manhattan  \n",
       "103              World Financial Center      Manhattan  \n",
       "104                      Yankee Stadium          Bronx  \n",
       "\n",
       "[105 rows x 3 columns]"
      ]
     },
     "execution_count": 95,
     "metadata": {},
     "output_type": "execute_result"
    }
   ],
   "source": [
    "df_NYmonuments[[\"monuments\",\"neighbourhood\"]] = df_NYmonuments.monuments_neighbourhood.str.split(\"\\(|\\)\", expand=True).iloc[:,[0,1]]\n",
    "df_NYmonuments"
   ]
  },
  {
   "cell_type": "code",
   "execution_count": 96,
   "id": "9bb36774",
   "metadata": {},
   "outputs": [
    {
     "data": {
      "text/html": [
       "<div>\n",
       "<style scoped>\n",
       "    .dataframe tbody tr th:only-of-type {\n",
       "        vertical-align: middle;\n",
       "    }\n",
       "\n",
       "    .dataframe tbody tr th {\n",
       "        vertical-align: top;\n",
       "    }\n",
       "\n",
       "    .dataframe thead th {\n",
       "        text-align: right;\n",
       "    }\n",
       "</style>\n",
       "<table border=\"1\" class=\"dataframe\">\n",
       "  <thead>\n",
       "    <tr style=\"text-align: right;\">\n",
       "      <th></th>\n",
       "      <th>monuments</th>\n",
       "      <th>neighbourhood</th>\n",
       "    </tr>\n",
       "  </thead>\n",
       "  <tbody>\n",
       "    <tr>\n",
       "      <th>0</th>\n",
       "      <td>American Museum of Natural History</td>\n",
       "      <td>Manhattan</td>\n",
       "    </tr>\n",
       "    <tr>\n",
       "      <th>1</th>\n",
       "      <td>Rose Center for Earth and Space</td>\n",
       "      <td>None</td>\n",
       "    </tr>\n",
       "    <tr>\n",
       "      <th>2</th>\n",
       "      <td>America's Response Monument</td>\n",
       "      <td>Manhattan</td>\n",
       "    </tr>\n",
       "    <tr>\n",
       "      <th>3</th>\n",
       "      <td>Apollo Theater</td>\n",
       "      <td>Manhattan</td>\n",
       "    </tr>\n",
       "    <tr>\n",
       "      <th>4</th>\n",
       "      <td>Bank of America Tower</td>\n",
       "      <td>Manhattan</td>\n",
       "    </tr>\n",
       "    <tr>\n",
       "      <th>...</th>\n",
       "      <td>...</td>\n",
       "      <td>...</td>\n",
       "    </tr>\n",
       "    <tr>\n",
       "      <th>100</th>\n",
       "      <td>Woodlawn Cemetery</td>\n",
       "      <td>Bronx</td>\n",
       "    </tr>\n",
       "    <tr>\n",
       "      <th>101</th>\n",
       "      <td>Woolworth Building</td>\n",
       "      <td>Manhattan</td>\n",
       "    </tr>\n",
       "    <tr>\n",
       "      <th>102</th>\n",
       "      <td>World Trade Center site</td>\n",
       "      <td>Manhattan</td>\n",
       "    </tr>\n",
       "    <tr>\n",
       "      <th>103</th>\n",
       "      <td>World Financial Center</td>\n",
       "      <td>Manhattan</td>\n",
       "    </tr>\n",
       "    <tr>\n",
       "      <th>104</th>\n",
       "      <td>Yankee Stadium</td>\n",
       "      <td>Bronx</td>\n",
       "    </tr>\n",
       "  </tbody>\n",
       "</table>\n",
       "<p>105 rows × 2 columns</p>\n",
       "</div>"
      ],
      "text/plain": [
       "                               monuments neighbourhood\n",
       "0    American Museum of Natural History      Manhattan\n",
       "1        Rose Center for Earth and Space          None\n",
       "2           America's Response Monument      Manhattan\n",
       "3                        Apollo Theater      Manhattan\n",
       "4                 Bank of America Tower      Manhattan\n",
       "..                                   ...           ...\n",
       "100                   Woodlawn Cemetery          Bronx\n",
       "101                  Woolworth Building      Manhattan\n",
       "102             World Trade Center site      Manhattan\n",
       "103              World Financial Center      Manhattan\n",
       "104                      Yankee Stadium          Bronx\n",
       "\n",
       "[105 rows x 2 columns]"
      ]
     },
     "execution_count": 96,
     "metadata": {},
     "output_type": "execute_result"
    }
   ],
   "source": [
    "drop_cols = [\"monuments_neighbourhood\"]\n",
    "df_NYmonuments = df_NYmonuments.drop(drop_cols, axis =1)\n",
    "df_NYmonuments"
   ]
  },
  {
   "cell_type": "code",
   "execution_count": 97,
   "id": "a5a87ba1",
   "metadata": {},
   "outputs": [
    {
     "data": {
      "text/plain": [
       "Manhattan                                       64\n",
       "NaN                                             12\n",
       "Brooklyn                                         8\n",
       "Bronx                                            6\n",
       "Queens                                           5\n",
       "connects Manhattan and New Jersey                3\n",
       "connects Manhattan and Brooklyn                  2\n",
       "Queens; demolished 2009                          1\n",
       "Staten Island                                    1\n",
       "formerly known as the New York State Theater     1\n",
       "The Bronx                                        1\n",
       "connects Brooklyn and Manhattan                  1\n",
       "Name: neighbourhood, dtype: int64"
      ]
     },
     "execution_count": 97,
     "metadata": {},
     "output_type": "execute_result"
    }
   ],
   "source": [
    "df_NYmonuments[\"neighbourhood\"].value_counts(dropna=False)"
   ]
  },
  {
   "cell_type": "code",
   "execution_count": 98,
   "id": "391c6571",
   "metadata": {},
   "outputs": [
    {
     "data": {
      "text/html": [
       "<div>\n",
       "<style scoped>\n",
       "    .dataframe tbody tr th:only-of-type {\n",
       "        vertical-align: middle;\n",
       "    }\n",
       "\n",
       "    .dataframe tbody tr th {\n",
       "        vertical-align: top;\n",
       "    }\n",
       "\n",
       "    .dataframe thead th {\n",
       "        text-align: right;\n",
       "    }\n",
       "</style>\n",
       "<table border=\"1\" class=\"dataframe\">\n",
       "  <thead>\n",
       "    <tr style=\"text-align: right;\">\n",
       "      <th></th>\n",
       "      <th>monuments</th>\n",
       "      <th>neighbourhood</th>\n",
       "    </tr>\n",
       "  </thead>\n",
       "  <tbody>\n",
       "    <tr>\n",
       "      <th>0</th>\n",
       "      <td>American Museum of Natural History</td>\n",
       "      <td>Manhattan</td>\n",
       "    </tr>\n",
       "    <tr>\n",
       "      <th>2</th>\n",
       "      <td>America's Response Monument</td>\n",
       "      <td>Manhattan</td>\n",
       "    </tr>\n",
       "    <tr>\n",
       "      <th>3</th>\n",
       "      <td>Apollo Theater</td>\n",
       "      <td>Manhattan</td>\n",
       "    </tr>\n",
       "    <tr>\n",
       "      <th>4</th>\n",
       "      <td>Bank of America Tower</td>\n",
       "      <td>Manhattan</td>\n",
       "    </tr>\n",
       "    <tr>\n",
       "      <th>5</th>\n",
       "      <td>Battery Park</td>\n",
       "      <td>Manhattan</td>\n",
       "    </tr>\n",
       "    <tr>\n",
       "      <th>...</th>\n",
       "      <td>...</td>\n",
       "      <td>...</td>\n",
       "    </tr>\n",
       "    <tr>\n",
       "      <th>100</th>\n",
       "      <td>Woodlawn Cemetery</td>\n",
       "      <td>Bronx</td>\n",
       "    </tr>\n",
       "    <tr>\n",
       "      <th>101</th>\n",
       "      <td>Woolworth Building</td>\n",
       "      <td>Manhattan</td>\n",
       "    </tr>\n",
       "    <tr>\n",
       "      <th>102</th>\n",
       "      <td>World Trade Center site</td>\n",
       "      <td>Manhattan</td>\n",
       "    </tr>\n",
       "    <tr>\n",
       "      <th>103</th>\n",
       "      <td>World Financial Center</td>\n",
       "      <td>Manhattan</td>\n",
       "    </tr>\n",
       "    <tr>\n",
       "      <th>104</th>\n",
       "      <td>Yankee Stadium</td>\n",
       "      <td>Bronx</td>\n",
       "    </tr>\n",
       "  </tbody>\n",
       "</table>\n",
       "<p>93 rows × 2 columns</p>\n",
       "</div>"
      ],
      "text/plain": [
       "                               monuments neighbourhood\n",
       "0    American Museum of Natural History      Manhattan\n",
       "2           America's Response Monument      Manhattan\n",
       "3                        Apollo Theater      Manhattan\n",
       "4                 Bank of America Tower      Manhattan\n",
       "5                          Battery Park      Manhattan\n",
       "..                                   ...           ...\n",
       "100                   Woodlawn Cemetery          Bronx\n",
       "101                  Woolworth Building      Manhattan\n",
       "102             World Trade Center site      Manhattan\n",
       "103              World Financial Center      Manhattan\n",
       "104                      Yankee Stadium          Bronx\n",
       "\n",
       "[93 rows x 2 columns]"
      ]
     },
     "execution_count": 98,
     "metadata": {},
     "output_type": "execute_result"
    }
   ],
   "source": [
    "df_NYmonuments = df_NYmonuments[df_NYmonuments[\"neighbourhood\"].notnull()]\n",
    "df_NYmonuments"
   ]
  },
  {
   "cell_type": "code",
   "execution_count": 106,
   "id": "e86796d5",
   "metadata": {},
   "outputs": [
    {
     "ename": "AttributeError",
     "evalue": "module 'src.clean_utils' has no attribute 'cleaning'",
     "output_type": "error",
     "traceback": [
      "\u001b[1;31m---------------------------------------------------------------------------\u001b[0m",
      "\u001b[1;31mAttributeError\u001b[0m                            Traceback (most recent call last)",
      "\u001b[1;32m<ipython-input-106-4db793f376be>\u001b[0m in \u001b[0;36m<module>\u001b[1;34m\u001b[0m\n\u001b[1;32m----> 1\u001b[1;33m \u001b[0mdf_NYmonuments\u001b[0m\u001b[1;33m[\u001b[0m\u001b[1;34m\"neighbourhood\"\u001b[0m\u001b[1;33m]\u001b[0m \u001b[1;33m=\u001b[0m \u001b[0mdf_NYmonuments\u001b[0m\u001b[1;33m[\u001b[0m\u001b[1;34m\"neighbourhood\"\u001b[0m\u001b[1;33m]\u001b[0m\u001b[1;33m.\u001b[0m\u001b[0mapply\u001b[0m\u001b[1;33m(\u001b[0m\u001b[0mcu\u001b[0m\u001b[1;33m.\u001b[0m\u001b[0mcleaning\u001b[0m\u001b[1;33m)\u001b[0m\u001b[1;33m\u001b[0m\u001b[1;33m\u001b[0m\u001b[0m\n\u001b[0m\u001b[0;32m      2\u001b[0m \u001b[0mdf_NYmonuments\u001b[0m\u001b[1;33m\u001b[0m\u001b[1;33m\u001b[0m\u001b[0m\n",
      "\u001b[1;31mAttributeError\u001b[0m: module 'src.clean_utils' has no attribute 'cleaning'"
     ]
    }
   ],
   "source": [
    "df_NYmonuments[\"neighbourhood\"] = df_NYmonuments[\"neighbourhood\"].apply(cu.cleaning)\n",
    "df_NYmonuments"
   ]
  },
  {
   "cell_type": "code",
   "execution_count": null,
   "id": "9d0d96f8",
   "metadata": {},
   "outputs": [],
   "source": []
  },
  {
   "cell_type": "markdown",
   "id": "ad5be4bb",
   "metadata": {},
   "source": [
    "## API"
   ]
  },
  {
   "cell_type": "code",
   "execution_count": 53,
   "id": "5733c6e8",
   "metadata": {},
   "outputs": [],
   "source": [
    "import requests"
   ]
  },
  {
   "cell_type": "code",
   "execution_count": 60,
   "id": "bd4d6a80",
   "metadata": {},
   "outputs": [],
   "source": [
    "url = \"https://data.cityofnewyork.us/resource/pitm-atqc.csv\""
   ]
  },
  {
   "cell_type": "code",
   "execution_count": 66,
   "id": "748a98a4",
   "metadata": {},
   "outputs": [],
   "source": [
    "url_params = \"https://data.cityofnewyork.us/resource/pitm-atqc.json\""
   ]
  },
  {
   "cell_type": "code",
   "execution_count": 67,
   "id": "8e3870d9",
   "metadata": {},
   "outputs": [],
   "source": [
    "response_params = requests.get(url_params).json()"
   ]
  },
  {
   "cell_type": "code",
   "execution_count": 76,
   "id": "cabeb20e",
   "metadata": {},
   "outputs": [
    {
     "data": {
      "text/html": [
       "<div>\n",
       "<style scoped>\n",
       "    .dataframe tbody tr th:only-of-type {\n",
       "        vertical-align: middle;\n",
       "    }\n",
       "\n",
       "    .dataframe tbody tr th {\n",
       "        vertical-align: top;\n",
       "    }\n",
       "\n",
       "    .dataframe thead th {\n",
       "        text-align: right;\n",
       "    }\n",
       "</style>\n",
       "<table border=\"1\" class=\"dataframe\">\n",
       "  <thead>\n",
       "    <tr style=\"text-align: right;\">\n",
       "      <th></th>\n",
       "      <th>objectid</th>\n",
       "      <th>globalid</th>\n",
       "      <th>seating_interest_sidewalk</th>\n",
       "      <th>restaurant_name</th>\n",
       "      <th>legal_business_name</th>\n",
       "      <th>doing_business_as_dba</th>\n",
       "      <th>bulding_number</th>\n",
       "      <th>street</th>\n",
       "      <th>borough</th>\n",
       "      <th>zip</th>\n",
       "      <th>...</th>\n",
       "      <th>community_board</th>\n",
       "      <th>council_district</th>\n",
       "      <th>census_tract</th>\n",
       "      <th>bin</th>\n",
       "      <th>bbl</th>\n",
       "      <th>nta</th>\n",
       "      <th>roadway_dimensions_length</th>\n",
       "      <th>roadway_dimensions_width</th>\n",
       "      <th>roadway_dimensions_area</th>\n",
       "      <th>landmarkdistrict_terms</th>\n",
       "    </tr>\n",
       "  </thead>\n",
       "  <tbody>\n",
       "    <tr>\n",
       "      <th>0</th>\n",
       "      <td>100</td>\n",
       "      <td>c4b3155b-31a0-4e95-846f-fce09f245437</td>\n",
       "      <td>sidewalk</td>\n",
       "      <td>Pomp and Circumstance Hospitality</td>\n",
       "      <td>Pomp and Circumstance Hospitality LLC</td>\n",
       "      <td>Pomp and Circumstance Hospitality LLC</td>\n",
       "      <td>577</td>\n",
       "      <td>Lorimer Street</td>\n",
       "      <td>Brooklyn</td>\n",
       "      <td>11211</td>\n",
       "      <td>...</td>\n",
       "      <td>1</td>\n",
       "      <td>34</td>\n",
       "      <td>501</td>\n",
       "      <td>3068653</td>\n",
       "      <td>3027560028</td>\n",
       "      <td>East Williamsburg</td>\n",
       "      <td>NaN</td>\n",
       "      <td>NaN</td>\n",
       "      <td>NaN</td>\n",
       "      <td>NaN</td>\n",
       "    </tr>\n",
       "    <tr>\n",
       "      <th>1</th>\n",
       "      <td>1000</td>\n",
       "      <td>753495d8-4429-43e5-85a3-dcf6230ef749</td>\n",
       "      <td>both</td>\n",
       "      <td>Charm Kao</td>\n",
       "      <td>193 Schemerhorn INC</td>\n",
       "      <td>Charm Kao</td>\n",
       "      <td>193</td>\n",
       "      <td>Schermerhorn St.</td>\n",
       "      <td>Brooklyn</td>\n",
       "      <td>11201</td>\n",
       "      <td>...</td>\n",
       "      <td>2</td>\n",
       "      <td>33</td>\n",
       "      <td>37</td>\n",
       "      <td>3000493</td>\n",
       "      <td>3001640041</td>\n",
       "      <td>DUMBO-Vinegar Hill-Downtown Brooklyn-Boerum Hill</td>\n",
       "      <td>24</td>\n",
       "      <td>8</td>\n",
       "      <td>192</td>\n",
       "      <td>NaN</td>\n",
       "    </tr>\n",
       "    <tr>\n",
       "      <th>2</th>\n",
       "      <td>10000</td>\n",
       "      <td>{3842B5C5-EF04-41A4-8216-D6EA627DCE5E}</td>\n",
       "      <td>openstreets</td>\n",
       "      <td>SAKE BAR HAGI 46</td>\n",
       "      <td>HAMA NEW YORK, INC.</td>\n",
       "      <td>SAKE BAR HAGI 46</td>\n",
       "      <td>358</td>\n",
       "      <td>W. 46TH STREET</td>\n",
       "      <td>Manhattan</td>\n",
       "      <td>10036</td>\n",
       "      <td>...</td>\n",
       "      <td>4</td>\n",
       "      <td>3</td>\n",
       "      <td>121</td>\n",
       "      <td>1025025</td>\n",
       "      <td>1010360057</td>\n",
       "      <td>Clinton</td>\n",
       "      <td>NaN</td>\n",
       "      <td>NaN</td>\n",
       "      <td>NaN</td>\n",
       "      <td>NaN</td>\n",
       "    </tr>\n",
       "    <tr>\n",
       "      <th>3</th>\n",
       "      <td>10001</td>\n",
       "      <td>{C212A0FC-C115-4425-8F95-931B12C5F86A}</td>\n",
       "      <td>openstreets</td>\n",
       "      <td>Yum yum too</td>\n",
       "      <td>Boythaicorp</td>\n",
       "      <td>Boythaicorp</td>\n",
       "      <td>662</td>\n",
       "      <td>9ave</td>\n",
       "      <td>Manhattan</td>\n",
       "      <td>10036</td>\n",
       "      <td>...</td>\n",
       "      <td>4</td>\n",
       "      <td>3</td>\n",
       "      <td>127</td>\n",
       "      <td>1025038</td>\n",
       "      <td>1010370001</td>\n",
       "      <td>Clinton</td>\n",
       "      <td>NaN</td>\n",
       "      <td>NaN</td>\n",
       "      <td>NaN</td>\n",
       "      <td>NaN</td>\n",
       "    </tr>\n",
       "    <tr>\n",
       "      <th>4</th>\n",
       "      <td>10002</td>\n",
       "      <td>{DA48265D-7730-416F-8E1C-EBC8C8ACE2C2}</td>\n",
       "      <td>openstreets</td>\n",
       "      <td>Xochil Pizza Corp</td>\n",
       "      <td>Xochil Pizza Corp</td>\n",
       "      <td>Xochil Pizza Corp</td>\n",
       "      <td>4632</td>\n",
       "      <td>5th Avenue</td>\n",
       "      <td>Brooklyn</td>\n",
       "      <td>11220</td>\n",
       "      <td>...</td>\n",
       "      <td>7</td>\n",
       "      <td>38</td>\n",
       "      <td>80</td>\n",
       "      <td>NaN</td>\n",
       "      <td>NaN</td>\n",
       "      <td>Sunset Park West</td>\n",
       "      <td>NaN</td>\n",
       "      <td>NaN</td>\n",
       "      <td>NaN</td>\n",
       "      <td>NaN</td>\n",
       "    </tr>\n",
       "  </tbody>\n",
       "</table>\n",
       "<p>5 rows × 35 columns</p>\n",
       "</div>"
      ],
      "text/plain": [
       "  objectid                                globalid seating_interest_sidewalk  \\\n",
       "0      100    c4b3155b-31a0-4e95-846f-fce09f245437                  sidewalk   \n",
       "1     1000    753495d8-4429-43e5-85a3-dcf6230ef749                      both   \n",
       "2    10000  {3842B5C5-EF04-41A4-8216-D6EA627DCE5E}               openstreets   \n",
       "3    10001  {C212A0FC-C115-4425-8F95-931B12C5F86A}               openstreets   \n",
       "4    10002  {DA48265D-7730-416F-8E1C-EBC8C8ACE2C2}               openstreets   \n",
       "\n",
       "                     restaurant_name                    legal_business_name  \\\n",
       "0  Pomp and Circumstance Hospitality  Pomp and Circumstance Hospitality LLC   \n",
       "1                          Charm Kao                    193 Schemerhorn INC   \n",
       "2                   SAKE BAR HAGI 46                    HAMA NEW YORK, INC.   \n",
       "3                        Yum yum too                            Boythaicorp   \n",
       "4                  Xochil Pizza Corp                      Xochil Pizza Corp   \n",
       "\n",
       "                   doing_business_as_dba bulding_number            street  \\\n",
       "0  Pomp and Circumstance Hospitality LLC            577    Lorimer Street   \n",
       "1                              Charm Kao            193  Schermerhorn St.   \n",
       "2                       SAKE BAR HAGI 46            358    W. 46TH STREET   \n",
       "3                            Boythaicorp            662              9ave   \n",
       "4                      Xochil Pizza Corp           4632        5th Avenue   \n",
       "\n",
       "     borough    zip  ... community_board council_district census_tract  \\\n",
       "0   Brooklyn  11211  ...               1               34          501   \n",
       "1   Brooklyn  11201  ...               2               33           37   \n",
       "2  Manhattan  10036  ...               4                3          121   \n",
       "3  Manhattan  10036  ...               4                3          127   \n",
       "4   Brooklyn  11220  ...               7               38           80   \n",
       "\n",
       "       bin         bbl                                               nta  \\\n",
       "0  3068653  3027560028                                 East Williamsburg   \n",
       "1  3000493  3001640041  DUMBO-Vinegar Hill-Downtown Brooklyn-Boerum Hill   \n",
       "2  1025025  1010360057                                           Clinton   \n",
       "3  1025038  1010370001                                           Clinton   \n",
       "4      NaN         NaN                                  Sunset Park West   \n",
       "\n",
       "  roadway_dimensions_length roadway_dimensions_width roadway_dimensions_area  \\\n",
       "0                       NaN                      NaN                     NaN   \n",
       "1                        24                        8                     192   \n",
       "2                       NaN                      NaN                     NaN   \n",
       "3                       NaN                      NaN                     NaN   \n",
       "4                       NaN                      NaN                     NaN   \n",
       "\n",
       "  landmarkdistrict_terms  \n",
       "0                    NaN  \n",
       "1                    NaN  \n",
       "2                    NaN  \n",
       "3                    NaN  \n",
       "4                    NaN  \n",
       "\n",
       "[5 rows x 35 columns]"
      ]
     },
     "execution_count": 76,
     "metadata": {},
     "output_type": "execute_result"
    }
   ],
   "source": [
    "data_api = pd.DataFrame(response_params)\n",
    "data_api.head()"
   ]
  },
  {
   "cell_type": "code",
   "execution_count": 71,
   "id": "66ea9638",
   "metadata": {},
   "outputs": [
    {
     "data": {
      "text/plain": [
       "objectid                         object\n",
       "globalid                         object\n",
       "seating_interest_sidewalk        object\n",
       "restaurant_name                  object\n",
       "legal_business_name              object\n",
       "doing_business_as_dba            object\n",
       "bulding_number                   object\n",
       "street                           object\n",
       "borough                          object\n",
       "zip                              object\n",
       "business_address                 object\n",
       "food_service_establishment       object\n",
       "sidewalk_dimensions_length       object\n",
       "sidewalk_dimensions_width        object\n",
       "sidewalk_dimensions_area         object\n",
       "approved_for_sidewalk_seating    object\n",
       "approved_for_roadway_seating     object\n",
       "qualify_alcohol                  object\n",
       "sla_serial_number                object\n",
       "sla_license_type                 object\n",
       "landmark_district_or_building    object\n",
       "healthcompliance_terms           object\n",
       "time_of_submission               object\n",
       "latitude                         object\n",
       "longitude                        object\n",
       "community_board                  object\n",
       "council_district                 object\n",
       "census_tract                     object\n",
       "bin                              object\n",
       "bbl                              object\n",
       "nta                              object\n",
       "roadway_dimensions_length        object\n",
       "roadway_dimensions_width         object\n",
       "roadway_dimensions_area          object\n",
       "landmarkdistrict_terms           object\n",
       "dtype: object"
      ]
     },
     "execution_count": 71,
     "metadata": {},
     "output_type": "execute_result"
    }
   ],
   "source": [
    "data_api.dtypes"
   ]
  },
  {
   "cell_type": "code",
   "execution_count": 73,
   "id": "40b8ed85",
   "metadata": {},
   "outputs": [
    {
     "data": {
      "text/plain": [
       "landmarkdistrict_terms           0.848\n",
       "sla_serial_number                0.405\n",
       "sla_license_type                 0.405\n",
       "roadway_dimensions_width         0.378\n",
       "roadway_dimensions_length        0.378\n",
       "roadway_dimensions_area          0.378\n",
       "sidewalk_dimensions_length       0.217\n",
       "sidewalk_dimensions_width        0.217\n",
       "sidewalk_dimensions_area         0.217\n",
       "bin                              0.091\n",
       "bbl                              0.091\n",
       "longitude                        0.085\n",
       "latitude                         0.085\n",
       "council_district                 0.085\n",
       "census_tract                     0.085\n",
       "nta                              0.085\n",
       "community_board                  0.085\n",
       "doing_business_as_dba            0.000\n",
       "bulding_number                   0.000\n",
       "globalid                         0.000\n",
       "legal_business_name              0.000\n",
       "restaurant_name                  0.000\n",
       "seating_interest_sidewalk        0.000\n",
       "borough                          0.000\n",
       "street                           0.000\n",
       "qualify_alcohol                  0.000\n",
       "zip                              0.000\n",
       "business_address                 0.000\n",
       "food_service_establishment       0.000\n",
       "approved_for_sidewalk_seating    0.000\n",
       "approved_for_roadway_seating     0.000\n",
       "landmark_district_or_building    0.000\n",
       "healthcompliance_terms           0.000\n",
       "time_of_submission               0.000\n",
       "objectid                         0.000\n",
       "dtype: float64"
      ]
     },
     "execution_count": 73,
     "metadata": {},
     "output_type": "execute_result"
    }
   ],
   "source": [
    "data_api.isnull().sum().apply(lambda x: x/data_api.shape[0]).sort_values(ascending=False)"
   ]
  },
  {
   "cell_type": "code",
   "execution_count": 74,
   "id": "5633bbab",
   "metadata": {},
   "outputs": [
    {
     "data": {
      "text/plain": [
       "17     0.485714\n",
       "61     0.428571\n",
       "279    0.428571\n",
       "81     0.400000\n",
       "652    0.400000\n",
       "         ...   \n",
       "197    0.000000\n",
       "752    0.000000\n",
       "133    0.000000\n",
       "296    0.000000\n",
       "522    0.000000\n",
       "Length: 1000, dtype: float64"
      ]
     },
     "execution_count": 74,
     "metadata": {},
     "output_type": "execute_result"
    }
   ],
   "source": [
    "data_api.isnull().sum(axis=1).apply(lambda x: x/data_api.shape[1]).sort_values(ascending=False)"
   ]
  },
  {
   "cell_type": "code",
   "execution_count": 75,
   "id": "7225e89f",
   "metadata": {},
   "outputs": [
    {
     "data": {
      "text/plain": [
       "0"
      ]
     },
     "execution_count": 75,
     "metadata": {},
     "output_type": "execute_result"
    }
   ],
   "source": [
    "data_api.duplicated().sum()"
   ]
  },
  {
   "cell_type": "code",
   "execution_count": 79,
   "id": "ea2e3aa1",
   "metadata": {},
   "outputs": [
    {
     "data": {
      "text/html": [
       "<div>\n",
       "<style scoped>\n",
       "    .dataframe tbody tr th:only-of-type {\n",
       "        vertical-align: middle;\n",
       "    }\n",
       "\n",
       "    .dataframe tbody tr th {\n",
       "        vertical-align: top;\n",
       "    }\n",
       "\n",
       "    .dataframe thead th {\n",
       "        text-align: right;\n",
       "    }\n",
       "</style>\n",
       "<table border=\"1\" class=\"dataframe\">\n",
       "  <thead>\n",
       "    <tr style=\"text-align: right;\">\n",
       "      <th></th>\n",
       "      <th>restaurant_name</th>\n",
       "      <th>borough</th>\n",
       "      <th>street</th>\n",
       "      <th>longitude</th>\n",
       "      <th>latitude</th>\n",
       "    </tr>\n",
       "  </thead>\n",
       "  <tbody>\n",
       "    <tr>\n",
       "      <th>0</th>\n",
       "      <td>Pomp and Circumstance Hospitality</td>\n",
       "      <td>Brooklyn</td>\n",
       "      <td>Lorimer Street</td>\n",
       "      <td>-73.949416</td>\n",
       "      <td>40.714264</td>\n",
       "    </tr>\n",
       "    <tr>\n",
       "      <th>1</th>\n",
       "      <td>Charm Kao</td>\n",
       "      <td>Brooklyn</td>\n",
       "      <td>Schermerhorn St.</td>\n",
       "      <td>-73.986352</td>\n",
       "      <td>40.689107</td>\n",
       "    </tr>\n",
       "    <tr>\n",
       "      <th>2</th>\n",
       "      <td>SAKE BAR HAGI 46</td>\n",
       "      <td>Manhattan</td>\n",
       "      <td>W. 46TH STREET</td>\n",
       "      <td>-73.989528</td>\n",
       "      <td>40.760463</td>\n",
       "    </tr>\n",
       "    <tr>\n",
       "      <th>3</th>\n",
       "      <td>Yum yum too</td>\n",
       "      <td>Manhattan</td>\n",
       "      <td>9ave</td>\n",
       "      <td>-73.990683</td>\n",
       "      <td>40.761081</td>\n",
       "    </tr>\n",
       "    <tr>\n",
       "      <th>4</th>\n",
       "      <td>Xochil Pizza Corp</td>\n",
       "      <td>Brooklyn</td>\n",
       "      <td>5th Avenue</td>\n",
       "      <td>-74.008216</td>\n",
       "      <td>40.64714</td>\n",
       "    </tr>\n",
       "    <tr>\n",
       "      <th>...</th>\n",
       "      <td>...</td>\n",
       "      <td>...</td>\n",
       "      <td>...</td>\n",
       "      <td>...</td>\n",
       "      <td>...</td>\n",
       "    </tr>\n",
       "    <tr>\n",
       "      <th>995</th>\n",
       "      <td>DONT TELL MAMA</td>\n",
       "      <td>Manhattan</td>\n",
       "      <td>343 WEST   46 STREET</td>\n",
       "      <td>-73.989196</td>\n",
       "      <td>40.76034</td>\n",
       "    </tr>\n",
       "    <tr>\n",
       "      <th>996</th>\n",
       "      <td>OLD MAN HUSTLE</td>\n",
       "      <td>Manhattan</td>\n",
       "      <td>39 ESSEX STREET</td>\n",
       "      <td>-73.989467</td>\n",
       "      <td>40.716135</td>\n",
       "    </tr>\n",
       "    <tr>\n",
       "      <th>997</th>\n",
       "      <td>Tsurutontan Udon Noodle Brasserie</td>\n",
       "      <td>Manhattan</td>\n",
       "      <td>48th</td>\n",
       "      <td>NaN</td>\n",
       "      <td>NaN</td>\n",
       "    </tr>\n",
       "    <tr>\n",
       "      <th>998</th>\n",
       "      <td>PHO PLUS</td>\n",
       "      <td>Queens</td>\n",
       "      <td>13351 37TH AVE</td>\n",
       "      <td>-73.83328</td>\n",
       "      <td>40.760757</td>\n",
       "    </tr>\n",
       "    <tr>\n",
       "      <th>999</th>\n",
       "      <td>NEW YORK BURGER CO.</td>\n",
       "      <td>Manhattan</td>\n",
       "      <td>470 WEST   23 STREET</td>\n",
       "      <td>-74.003176</td>\n",
       "      <td>40.747264</td>\n",
       "    </tr>\n",
       "  </tbody>\n",
       "</table>\n",
       "<p>1000 rows × 5 columns</p>\n",
       "</div>"
      ],
      "text/plain": [
       "                       restaurant_name    borough                street  \\\n",
       "0    Pomp and Circumstance Hospitality   Brooklyn        Lorimer Street   \n",
       "1                            Charm Kao   Brooklyn      Schermerhorn St.   \n",
       "2                     SAKE BAR HAGI 46  Manhattan        W. 46TH STREET   \n",
       "3                          Yum yum too  Manhattan                  9ave   \n",
       "4                    Xochil Pizza Corp   Brooklyn            5th Avenue   \n",
       "..                                 ...        ...                   ...   \n",
       "995                     DONT TELL MAMA  Manhattan  343 WEST   46 STREET   \n",
       "996                     OLD MAN HUSTLE  Manhattan       39 ESSEX STREET   \n",
       "997  Tsurutontan Udon Noodle Brasserie  Manhattan                  48th   \n",
       "998                           PHO PLUS     Queens        13351 37TH AVE   \n",
       "999                NEW YORK BURGER CO.  Manhattan  470 WEST   23 STREET   \n",
       "\n",
       "      longitude   latitude  \n",
       "0    -73.949416  40.714264  \n",
       "1    -73.986352  40.689107  \n",
       "2    -73.989528  40.760463  \n",
       "3    -73.990683  40.761081  \n",
       "4    -74.008216   40.64714  \n",
       "..          ...        ...  \n",
       "995  -73.989196   40.76034  \n",
       "996  -73.989467  40.716135  \n",
       "997         NaN        NaN  \n",
       "998   -73.83328  40.760757  \n",
       "999  -74.003176  40.747264  \n",
       "\n",
       "[1000 rows x 5 columns]"
      ]
     },
     "execution_count": 79,
     "metadata": {},
     "output_type": "execute_result"
    }
   ],
   "source": [
    "col_list = [\"restaurant_name\", \"borough\", \"street\",\"longitude\",\"latitude\"]\n",
    "data_api_clean = data_api[col_list]\n",
    "data_api_clean"
   ]
  }
 ],
 "metadata": {
  "kernelspec": {
   "display_name": "ironhackpt",
   "language": "python",
   "name": "ironhackpt"
  },
  "language_info": {
   "codemirror_mode": {
    "name": "ipython",
    "version": 3
   },
   "file_extension": ".py",
   "mimetype": "text/x-python",
   "name": "python",
   "nbconvert_exporter": "python",
   "pygments_lexer": "ipython3",
   "version": "3.6.13"
  }
 },
 "nbformat": 4,
 "nbformat_minor": 5
}
