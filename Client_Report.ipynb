{
 "cells": [
  {
   "cell_type": "markdown",
   "id": "b69e8d20",
   "metadata": {},
   "source": [
    "# CLIENT REPORT"
   ]
  },
  {
   "cell_type": "markdown",
   "id": "5c6c41b0",
   "metadata": {},
   "source": [
    "## 1. Client Hypothesis"
   ]
  },
  {
   "cell_type": "markdown",
   "id": "a7655c73",
   "metadata": {},
   "source": [
    "Our client is an entreperneur that whant to buy both:\n",
    "- Estate for condition them for renting.\n",
    "- Locals to conditions them for restaurants. \n",
    "\n",
    "All based in NY neighborhoods, and they want to know which are the best for each option."
   ]
  },
  {
   "cell_type": "markdown",
   "id": "920ec6eb",
   "metadata": {},
   "source": [
    "## 2. Supporting analysis"
   ]
  },
  {
   "cell_type": "markdown",
   "id": "f1f8cb00",
   "metadata": {},
   "source": [
    "## Estate for rent"
   ]
  },
  {
   "cell_type": "markdown",
   "id": "0ab8b252",
   "metadata": {},
   "source": [
    "In the following graph we can se that Manhattan and Broklyn are the two neighborhoods were more Airbnb houses are renting, so they seem to be the bests for having Estates for renting.\n",
    "\n",
    "But, why are those two neighborhoods more atractive than others?"
   ]
  },
  {
   "cell_type": "markdown",
   "id": "26f632ac",
   "metadata": {},
   "source": [
    "![alt text](Output/Airbnb_plot.jpg)"
   ]
  },
  {
   "cell_type": "markdown",
   "id": "b4268bcf",
   "metadata": {},
   "source": [
    "In the next graph, we can see how mostly all Monuments are in Manhattan. Sounds logic, it is an atractive place to be and be near to most interest points in NY.\n",
    "\n",
    "But, Brooklyn is the second neighborhoods with more occupation but the are not much monuments."
   ]
  },
  {
   "cell_type": "markdown",
   "id": "c9e14b87",
   "metadata": {},
   "source": [
    "![alt text](Output/Monuments_plot.jpg)"
   ]
  },
  {
   "cell_type": "markdown",
   "id": "0f27c6d9",
   "metadata": {},
   "source": [
    "With the following graph we can conclude that as Manhattan is atractive because nearly all monuments aer there, Brooklyn is atractive because is relatively near to Manhattan and prices there are considerably lower."
   ]
  },
  {
   "cell_type": "markdown",
   "id": "73301149",
   "metadata": {},
   "source": [
    "![alt text](Output/median_plot.jpg)"
   ]
  },
  {
   "cell_type": "markdown",
   "id": "dc68b6bc",
   "metadata": {},
   "source": [
    "### Conclusion:\n",
    "- For renting, Manhattan and Brooblyn are bests places to be.\n",
    "- Manhattan, because it is near to monument and offices.\n",
    "- Brooklyn, is cheaper and is also near to Manhattan. "
   ]
  },
  {
   "cell_type": "markdown",
   "id": "8a6f3a8f",
   "metadata": {},
   "source": [
    "## Locals for restaurants"
   ]
  },
  {
   "cell_type": "markdown",
   "id": "47968245",
   "metadata": {},
   "source": [
    "In which neighborhoods is better to have a local conditioned for restaurants renting or sell?\n",
    "\n",
    "It sounds logic than those neighborhoods where more people stay are the ones with more influx of people goint to restaurants. But, let support this hypothesis with Data."
   ]
  },
  {
   "cell_type": "markdown",
   "id": "808e83ba",
   "metadata": {},
   "source": [
    "The following graph support our hypothesis, the two places with more restaurants are Manhattan and Brooklyn, followed by Queens.\n",
    "So, having locals addapted for sale or rent in those neighbourhood is a good option. "
   ]
  },
  {
   "cell_type": "markdown",
   "id": "e09f4549",
   "metadata": {},
   "source": [
    "![alt text](Output/restaurants_plot.jpg)"
   ]
  },
  {
   "cell_type": "markdown",
   "id": "18940248",
   "metadata": {},
   "source": [
    "To sum up, in the following map we can see the two point where having houses for rent are a better option and the heat map shows restaurants distribution, as it gets to erd, more restaurants are in this place."
   ]
  },
  {
   "cell_type": "markdown",
   "id": "e59c0a41",
   "metadata": {},
   "source": [
    "![alt text](Output/mapa.jpg)"
   ]
  },
  {
   "cell_type": "code",
   "execution_count": 6,
   "id": "28960dff",
   "metadata": {},
   "outputs": [],
   "source": [
    "import folium"
   ]
  }
 ],
 "metadata": {
  "kernelspec": {
   "display_name": "ironhackpt",
   "language": "python",
   "name": "ironhackpt"
  },
  "language_info": {
   "codemirror_mode": {
    "name": "ipython",
    "version": 3
   },
   "file_extension": ".py",
   "mimetype": "text/x-python",
   "name": "python",
   "nbconvert_exporter": "python",
   "pygments_lexer": "ipython3",
   "version": "3.6.13"
  }
 },
 "nbformat": 4,
 "nbformat_minor": 5
}
