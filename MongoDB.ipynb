{
 "cells": [
  {
   "cell_type": "markdown",
   "id": "2488d6a2",
   "metadata": {},
   "source": [
    "# Using our Database in MONGO"
   ]
  },
  {
   "cell_type": "markdown",
   "id": "0c1d6b5b",
   "metadata": {},
   "source": [
    "We will see how our Datasets could be used in Mongo DB"
   ]
  },
  {
   "cell_type": "code",
   "execution_count": 2,
   "id": "8866a72e",
   "metadata": {},
   "outputs": [
    {
     "name": "stdout",
     "output_type": "stream",
     "text": [
      "Collecting pymongo\n",
      "  Downloading pymongo-3.11.4-cp36-cp36m-win_amd64.whl (382 kB)\n",
      "Installing collected packages: pymongo\n",
      "Successfully installed pymongo-3.11.4\n"
     ]
    }
   ],
   "source": [
    "! pip install pymongo"
   ]
  },
  {
   "cell_type": "code",
   "execution_count": 1,
   "id": "832383e0",
   "metadata": {},
   "outputs": [
    {
     "data": {
      "text/plain": [
       "['NY_AirBnb', 'NY_monuments', 'companies', 'restaurants', 'NY_restaurants']"
      ]
     },
     "execution_count": 1,
     "metadata": {},
     "output_type": "execute_result"
    }
   ],
   "source": [
    "from pymongo import MongoClient\n",
    "client = MongoClient(\"localhost:27017\")\n",
    "db = client.get_database(\"ironhack\")\n",
    "db.list_collection_names()"
   ]
  },
  {
   "cell_type": "code",
   "execution_count": 2,
   "id": "3bfdff28",
   "metadata": {},
   "outputs": [],
   "source": [
    "# Airbnb Dataset\n",
    "collection = db.get_collection(\"NY_AirBnb\")"
   ]
  },
  {
   "cell_type": "code",
   "execution_count": 3,
   "id": "0f28f87f",
   "metadata": {},
   "outputs": [
    {
     "data": {
      "text/plain": [
       "{'_id': ObjectId('60a8f54761598f2a20fe5fa6'),\n",
       " 'neighbourhood_group': 'Brooklyn',\n",
       " 'neighbourhood': 'Kensington',\n",
       " 'latitude': '40.647490000000005',\n",
       " 'longitude': '-73.97237',\n",
       " 'room_type': 'Private room',\n",
       " 'price': '149',\n",
       " 'minimum_nights': '1',\n",
       " 'number_of_reviews': '9',\n",
       " 'year': '2018.0'}"
      ]
     },
     "execution_count": 3,
     "metadata": {},
     "output_type": "execute_result"
    }
   ],
   "source": [
    "collection.find_one()"
   ]
  },
  {
   "cell_type": "code",
   "execution_count": 4,
   "id": "5efadb6b",
   "metadata": {},
   "outputs": [
    {
     "data": {
      "text/plain": [
       "[{'neighbourhood_group': 'Manhattan', 'price': '225'},\n",
       " {'neighbourhood_group': 'Manhattan', 'price': '80'},\n",
       " {'neighbourhood_group': 'Manhattan', 'price': '200'},\n",
       " {'neighbourhood_group': 'Manhattan', 'price': '79'},\n",
       " {'neighbourhood_group': 'Manhattan', 'price': '79'},\n",
       " {'neighbourhood_group': 'Manhattan', 'price': '150'},\n",
       " {'neighbourhood_group': 'Manhattan', 'price': '135'},\n",
       " {'neighbourhood_group': 'Manhattan', 'price': '85'},\n",
       " {'neighbourhood_group': 'Manhattan', 'price': '85'},\n",
       " {'neighbourhood_group': 'Manhattan', 'price': '120'},\n",
       " {'neighbourhood_group': 'Manhattan', 'price': '140'},\n",
       " {'neighbourhood_group': 'Manhattan', 'price': '150'},\n",
       " {'neighbourhood_group': 'Manhattan', 'price': '44'},\n",
       " {'neighbourhood_group': 'Manhattan', 'price': '180'},\n",
       " {'neighbourhood_group': 'Manhattan', 'price': '50'},\n",
       " {'neighbourhood_group': 'Manhattan', 'price': '52'},\n",
       " {'neighbourhood_group': 'Manhattan', 'price': '50'},\n",
       " {'neighbourhood_group': 'Manhattan', 'price': '40'},\n",
       " {'neighbourhood_group': 'Manhattan', 'price': '68'},\n",
       " {'neighbourhood_group': 'Manhattan', 'price': '135'}]"
      ]
     },
     "execution_count": 4,
     "metadata": {},
     "output_type": "execute_result"
    }
   ],
   "source": [
    "# All reservations in Manhattan, with price.\n",
    "proj = {\"_id\":0,\"neighbourhood_group\":1,\"price\":1}\n",
    "filtro = {\"neighbourhood_group\":\"Manhattan\"}\n",
    "Manhattan = list(collection.find(filtro,proj).limit(20))\n",
    "Manhattan"
   ]
  },
  {
   "cell_type": "code",
   "execution_count": 10,
   "id": "52a41e1b",
   "metadata": {},
   "outputs": [],
   "source": [
    "# Airbnb Monuments\n",
    "collection_M = db.get_collection(\"NY_monuments\")"
   ]
  },
  {
   "cell_type": "code",
   "execution_count": 11,
   "id": "a0c55253",
   "metadata": {},
   "outputs": [
    {
     "data": {
      "text/plain": [
       "{'_id': ObjectId('60a8f5b161598f2a20fef14d'),\n",
       " 'Monument': '69th Regiment Armory',\n",
       " 'Borough': 'Manhattan',\n",
       " 'Location': '40°44′30″N 73°59′01″W\\ufeff / \\ufeff40.741648°N 73.983607°W\\ufeff / 40.741648; -73.983607\\ufeff (69th Regiment Armory)\\n'}"
      ]
     },
     "execution_count": 11,
     "metadata": {},
     "output_type": "execute_result"
    }
   ],
   "source": [
    "collection_M.find_one()"
   ]
  },
  {
   "cell_type": "code",
   "execution_count": 14,
   "id": "f806b63a",
   "metadata": {},
   "outputs": [
    {
     "data": {
      "text/plain": [
       "[{'Monument': '69th Regiment Armory', 'Borough': 'Manhattan'},\n",
       " {'Monument': 'African Burial Ground', 'Borough': 'Manhattan'},\n",
       " {'Monument': 'Ambrose (lightship)', 'Borough': 'Manhattan'},\n",
       " {'Monument': 'American Stock Exchange', 'Borough': 'Manhattan'},\n",
       " {'Monument': 'Chester A. Arthur House', 'Borough': 'Manhattan'},\n",
       " {'Monument': 'Bayard-Condict Building', 'Borough': 'Manhattan'},\n",
       " {'Monument': 'Bell Laboratories Building', 'Borough': 'Manhattan'},\n",
       " {'Monument': 'Carnegie Hall', 'Borough': 'Manhattan'},\n",
       " {'Monument': 'Andrew Carnegie Mansion', 'Borough': 'Manhattan'},\n",
       " {'Monument': 'Central Park', 'Borough': 'Manhattan'},\n",
       " {'Monument': 'Central Synagogue', 'Borough': 'Manhattan'},\n",
       " {'Monument': 'Chamber of Commerce Building', 'Borough': 'Manhattan'},\n",
       " {'Monument': 'Chrysler Building', 'Borough': 'Manhattan'},\n",
       " {'Monument': 'Church of the Ascension', 'Borough': 'Manhattan'},\n",
       " {'Monument': 'City Hall', 'Borough': 'Manhattan'},\n",
       " {'Monument': 'Will Marion Cook House', 'Borough': 'Manhattan'},\n",
       " {'Monument': 'Cooper Union', 'Borough': 'Manhattan'},\n",
       " {'Monument': 'Daily News Building', 'Borough': 'Manhattan'},\n",
       " {'Monument': 'Dakota Apartments', 'Borough': 'Manhattan'},\n",
       " {'Monument': 'Dyckman House', 'Borough': 'Manhattan'}]"
      ]
     },
     "execution_count": 14,
     "metadata": {},
     "output_type": "execute_result"
    }
   ],
   "source": [
    "# All Monuments in Manhattan.\n",
    "proj = {\"_id\":0,\"Borough\":1,\"price\":1, \"Monument\":1}\n",
    "filtro = {\"Borough\":\"Manhattan\"}\n",
    "Manhattan = list(collection_M.find(filtro,proj).limit(20))\n",
    "Manhattan"
   ]
  },
  {
   "cell_type": "code",
   "execution_count": 17,
   "id": "5538fdf1",
   "metadata": {},
   "outputs": [],
   "source": [
    "# Airbnb Monuments\n",
    "collection_R = db.get_collection(\"NY_restaurants\")"
   ]
  },
  {
   "cell_type": "code",
   "execution_count": 18,
   "id": "04ed8463",
   "metadata": {},
   "outputs": [
    {
     "data": {
      "text/plain": [
       "{'_id': ObjectId('60a8f5d361598f2a20fef1c1'),\n",
       " 'restaurant_name': 'Pomp and Circumstance Hospitality',\n",
       " 'borough': 'Brooklyn',\n",
       " 'street': 'Lorimer Street',\n",
       " 'longitude': '-73.949416',\n",
       " 'latitude': '40.714264'}"
      ]
     },
     "execution_count": 18,
     "metadata": {},
     "output_type": "execute_result"
    }
   ],
   "source": [
    "collection_R.find_one()"
   ]
  },
  {
   "cell_type": "code",
   "execution_count": 22,
   "id": "1769ae9f",
   "metadata": {},
   "outputs": [
    {
     "data": {
      "text/plain": [
       "[{'restaurant_name': 'SAKE BAR HAGI 46', 'borough': 'Manhattan'},\n",
       " {'restaurant_name': 'Yum yum too', 'borough': 'Manhattan'},\n",
       " {'restaurant_name': 'BECKETTS BAR', 'borough': 'Manhattan'},\n",
       " {'restaurant_name': 'Tropical Sensation Restaurant', 'borough': 'Manhattan'},\n",
       " {'restaurant_name': 'MANHATTANVILLE COFFEE', 'borough': 'Manhattan'},\n",
       " {'restaurant_name': 'Bodrum Turkish Meditrranean Restaurant',\n",
       "  'borough': 'Manhattan'},\n",
       " {'restaurant_name': 'Treadwell Park & Black Hound Bar',\n",
       "  'borough': 'Manhattan'},\n",
       " {'restaurant_name': 'Chez Josephine', 'borough': 'Manhattan'},\n",
       " {'restaurant_name': 'Public House NYC', 'borough': 'Manhattan'},\n",
       " {'restaurant_name': 'Arco Cafe', 'borough': 'Manhattan'},\n",
       " {'restaurant_name': 'I SODI', 'borough': 'Manhattan'},\n",
       " {'restaurant_name': 'Dalongyi Hot Pot', 'borough': 'Manhattan'},\n",
       " {'restaurant_name': 'Taiwan pork chop house', 'borough': 'Manhattan'},\n",
       " {'restaurant_name': 'GUPSHUP', 'borough': 'Manhattan'},\n",
       " {'restaurant_name': 'Groove', 'borough': 'Manhattan'},\n",
       " {'restaurant_name': 'Raku Soho', 'borough': 'Manhattan'},\n",
       " {'restaurant_name': 'Silvia L Duran', 'borough': 'Manhattan'},\n",
       " {'restaurant_name': 'SLAINTE', 'borough': 'Manhattan'},\n",
       " {'restaurant_name': 'Le Bilboquet', 'borough': 'Manhattan'},\n",
       " {'restaurant_name': 'TASTY HAND-PULLED NOODLES', 'borough': 'Manhattan'}]"
      ]
     },
     "execution_count": 22,
     "metadata": {},
     "output_type": "execute_result"
    }
   ],
   "source": [
    "# All restaurants in Manhattan.\n",
    "proj = {\"_id\":0,\"borough\":1,\"price\":1, \"restaurant_name\":1}\n",
    "filtro = {\"borough\":\"Manhattan\"}\n",
    "Manhattan = list(collection_R.find(filtro,proj).limit(20))\n",
    "Manhattan"
   ]
  }
 ],
 "metadata": {
  "kernelspec": {
   "display_name": "ironhackpt",
   "language": "python",
   "name": "ironhackpt"
  },
  "language_info": {
   "codemirror_mode": {
    "name": "ipython",
    "version": 3
   },
   "file_extension": ".py",
   "mimetype": "text/x-python",
   "name": "python",
   "nbconvert_exporter": "python",
   "pygments_lexer": "ipython3",
   "version": "3.6.13"
  }
 },
 "nbformat": 4,
 "nbformat_minor": 5
}
